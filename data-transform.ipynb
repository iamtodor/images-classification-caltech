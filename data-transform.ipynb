{
 "cells": [
  {
   "cell_type": "code",
   "execution_count": 1,
   "metadata": {
    "collapsed": true
   },
   "outputs": [],
   "source": [
    "import os\n",
    "from scipy import misc\n",
    "import numpy as np\n",
    "import pandas as pd"
   ]
  },
  {
   "cell_type": "code",
   "execution_count": 2,
   "metadata": {
    "collapsed": true
   },
   "outputs": [],
   "source": [
    "def create_dir(directory):\n",
    "    os.makedirs(directory)"
   ]
  },
  {
   "cell_type": "code",
   "execution_count": 3,
   "metadata": {
    "collapsed": true
   },
   "outputs": [],
   "source": [
    "def check_dir(directory):\n",
    "    if not os.path.exists(directory):\n",
    "        create_dir(directory)"
   ]
  },
  {
   "cell_type": "markdown",
   "metadata": {},
   "source": [
    "### Transform train data to 64x64 size"
   ]
  },
  {
   "cell_type": "code",
   "execution_count": 20,
   "metadata": {},
   "outputs": [
    {
     "name": "stdout",
     "output_type": "stream",
     "text": [
      "030.canoe\n",
      "060.duck\n",
      "090.gorilla\n",
      "120.joy-stick\n",
      "150.octopus\n",
      "180.screwdriver\n",
      "210.syringe\n",
      "240.watch-101\n",
      "CPU times: user 3min 48s, sys: 18.5 s, total: 4min 7s\n",
      "Wall time: 4min 50s\n"
     ]
    }
   ],
   "source": [
    "%%time\n",
    "dir_train_transformed = 'data/train_transformed'\n",
    "dir_train = 'data/train'\n",
    "img_size=(64, 64)\n",
    "    \n",
    "check_dir(dir_train_transformed)\n",
    "for ind, folder in enumerate(os.listdir(dir_train)):\n",
    "        subfolder = os.path.join(dir_train, folder)\n",
    "        if os.path.isdir(subfolder):\n",
    "            if ind % 30 == 0:\n",
    "                print('{}'.format(folder))\n",
    "            for image_file in os.listdir(subfolder):\n",
    "                if not image_file.startswith('.'):\n",
    "                    name = os.path.join(subfolder, image_file)\n",
    "                    image = misc.imread(name)\n",
    "                    if len(image.shape) == 2:\n",
    "                        image = np.stack((image,)*3)\n",
    "                    image = misc.imresize(image, img_size, interp='bicubic')\n",
    "                    fold_to_save = os.path.join(dir_train_transformed, image_file)\n",
    "                    misc.imsave(fold_to_save, image)"
   ]
  },
  {
   "cell_type": "markdown",
   "metadata": {},
   "source": [
    "### Transform test data to 64x64 size"
   ]
  },
  {
   "cell_type": "code",
   "execution_count": 12,
   "metadata": {
    "scrolled": true
   },
   "outputs": [
    {
     "name": "stdout",
     "output_type": "stream",
     "text": [
      "0\n",
      "600\n",
      "1200\n",
      "1800\n",
      "2400\n",
      "3000\n",
      "3600\n",
      "4200\n",
      "4800\n",
      "5400\n",
      "6000\n",
      "6600\n",
      "7200\n",
      "CPU times: user 1min 20s, sys: 7.68 s, total: 1min 28s\n",
      "Wall time: 1min 33s\n"
     ]
    }
   ],
   "source": [
    "%%time\n",
    "dir_test_transformed = 'data/test_transformed'\n",
    "dir_test = 'data/test'\n",
    "img_size=(64, 64)\n",
    "\n",
    "check_dir(dir_test_transformed)\n",
    "for ind, image_name in enumerate(os.listdir(dir_test)):\n",
    "        if ind % 600 == 0:\n",
    "            print('{}'.format(ind))\n",
    "        if not image_name.startswith('.'):\n",
    "            name = os.path.join(dir_test, image_name)\n",
    "            image = misc.imread(name)\n",
    "            if len(image.shape) == 2:\n",
    "                image = np.stack((image,)*3)\n",
    "            image = misc.imresize(image, img_size, interp='bicubic')\n",
    "            fold_to_save = os.path.join(dir_test_transformed, image_name)\n",
    "            misc.imsave(fold_to_save, image)"
   ]
  },
  {
   "cell_type": "markdown",
   "metadata": {},
   "source": [
    "### Transform images for keras"
   ]
  },
  {
   "cell_type": "code",
   "execution_count": 4,
   "metadata": {
    "collapsed": true,
    "scrolled": true
   },
   "outputs": [],
   "source": [
    "train_df = pd.read_csv('data/data_analys.csv', index_col = 0)"
   ]
  },
  {
   "cell_type": "code",
   "execution_count": 5,
   "metadata": {
    "collapsed": true,
    "scrolled": true
   },
   "outputs": [],
   "source": [
    "images = np.zeros((train_df.shape[0], 64, 64, 3), dtype='uint8')\n",
    "targets = np.zeros((train_df.shape[0],), dtype='object')"
   ]
  },
  {
   "cell_type": "code",
   "execution_count": 25,
   "metadata": {},
   "outputs": [
    {
     "name": "stdout",
     "output_type": "stream",
     "text": [
      "0\n",
      "2000\n",
      "4000\n",
      "6000\n",
      "8000\n",
      "10000\n",
      "12000\n",
      "14000\n",
      "16000\n",
      "18000\n",
      "20000\n",
      "22000\n"
     ]
    }
   ],
   "source": [
    "dir_train = 'data/train_transformed'\n",
    "img_size=(64, 64)\n",
    "\n",
    "i =0\n",
    "for ind, image_name in enumerate(os.listdir(dir_train)):\n",
    "    image_file = os.path.join(dir_train, image_name)\n",
    "    if ind % 2000 == 0:\n",
    "        print('{}'.format(ind))\n",
    "    if not image_file.startswith('.'):\n",
    "        #name = os.path.join(subfolder, image_file)\n",
    "        image = misc.imread(image_file)\n",
    "        if len(image.shape) == 2:\n",
    "            image = np.stack((image,)*3)\n",
    "        images[i] = misc.imresize(image, img_size, interp='bicubic')\n",
    "        targets[i] = int(image_name[:3])\n",
    "        i = i+1"
   ]
  },
  {
   "cell_type": "code",
   "execution_count": 17,
   "metadata": {
    "collapsed": true
   },
   "outputs": [],
   "source": [
    "np.save('data/keras/train_images.npy', images)\n",
    "np.save('data/keras/targets.npy', targets)"
   ]
  },
  {
   "cell_type": "code",
   "execution_count": 18,
   "metadata": {},
   "outputs": [
    {
     "name": "stdout",
     "output_type": "stream",
     "text": [
      "0\n",
      "600\n",
      "1200\n",
      "1800\n",
      "2400\n",
      "3000\n",
      "3600\n",
      "4200\n",
      "4800\n",
      "5400\n",
      "6000\n",
      "6600\n",
      "7200\n",
      "CPU times: user 4.19 s, sys: 628 ms, total: 4.82 s\n",
      "Wall time: 5.51 s\n"
     ]
    }
   ],
   "source": [
    "%%time\n",
    "dir_test_name = 'data/test_transformed'\n",
    "dir_test = os.listdir(dir_test_name)\n",
    "img_size=(64, 64)\n",
    "\n",
    "test_images = np.zeros((len(dir_test), img_size[0], img_size[1], 3), dtype='uint8')\n",
    "\n",
    "i = 0\n",
    "for ind, image_name in enumerate(os.listdir(dir_test_name)):\n",
    "        if ind % 600 == 0:\n",
    "            print('{}'.format(ind))\n",
    "        if not image_name.startswith('.'):\n",
    "            name = os.path.join(dir_test_name, image_name)\n",
    "            image = misc.imread(name)\n",
    "            if len(image.shape) == 2:\n",
    "                image = np.stack((image,)*3)\n",
    "            test_images[i] = misc.imresize(image, img_size, interp='bicubic')\n",
    "            i = i+1"
   ]
  },
  {
   "cell_type": "code",
   "execution_count": 19,
   "metadata": {
    "collapsed": true
   },
   "outputs": [],
   "source": [
    "np.save('data/keras/test_images.npy', test_images)"
   ]
  }
 ],
 "metadata": {
  "kernelspec": {
   "display_name": "Python 3",
   "language": "python",
   "name": "python3"
  },
  "language_info": {
   "codemirror_mode": {
    "name": "ipython",
    "version": 3
   },
   "file_extension": ".py",
   "mimetype": "text/x-python",
   "name": "python",
   "nbconvert_exporter": "python",
   "pygments_lexer": "ipython3",
   "version": "3.6.1"
  }
 },
 "nbformat": 4,
 "nbformat_minor": 2
}
