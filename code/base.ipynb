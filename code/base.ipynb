{
 "cells": [
  {
   "cell_type": "markdown",
   "metadata": {},
   "source": [
    "### Preprocessing\n",
    "* http://cs231n.github.io/neural-networks-2/#datapre\n",
    "* http://www.robots.ox.ac.uk/~vgg/practicals/cnn/#getting-started\n",
    "* https://www.safaribooksonline.com/library/view/programming-computer-vision/9781449341916/ch01.html\n",
    "* https://stackoverflow.com/a/10169025/5151861\n",
    "* augmentation tf+keras http://machinelearningmastery.com/image-augmentation-deep-learning-keras/"
   ]
  },
  {
   "cell_type": "markdown",
   "metadata": {},
   "source": [
    "#### Augmentation\n",
    "* rotation: random with angle between 0° and 360° (uniform)\n",
    "* translation: random with shift between -10 and 10 pixels (uniform)\n",
    "* rescaling: random with scale factor between 1/1.6 and 1.6 (log-uniform)\n",
    "* flipping: yes or no (bernoulli)\n",
    "* shearing: random with angle between -20° and 20° (uniform)\n",
    "* stretching: random with stretch factor between 1/1.3 and 1.3 (log-uniform)\n",
    "* whitening\n",
    "* https://www.tensorflow.org/api_docs/python/tf/image\n",
    "* https://github.com/aleju/imgaug\n",
    "* http://augmentor.readthedocs.io/en/master/\n",
    "* https://github.com/analysiscenter/dataset"
   ]
  },
  {
   "cell_type": "markdown",
   "metadata": {},
   "source": [
    "* uint8 0 to 255\n",
    "* uint16 0 to 65535\n",
    "* uint32 0 to 232\n",
    "* float -1 to 1 or 0 to 1\n",
    "* int8 -128 to 127\n",
    "* int16 -32768 to 32767\n",
    "* int32-231 to 231 - 1"
   ]
  },
  {
   "cell_type": "code",
   "execution_count": 20,
   "metadata": {
    "scrolled": true
   },
   "outputs": [],
   "source": [
    "\n",
    "import os\n",
    "\n",
    "import matplotlib.pyplot as plt\n",
    "import numpy as np\n",
    "import pandas as pd\n",
    "from scipy import misc\n",
    "from sklearn.decomposition import PCA\n",
    "from sklearn.linear_model import LogisticRegression\n",
    "from sklearn.metrics import accuracy_score\n",
    "from sklearn.model_selection import RandomizedSearchCV\n",
    "from sklearn.model_selection import train_test_split\n",
    "from sklearn.pipeline import Pipeline\n",
    "from sklearn.preprocessing import StandardScaler\n",
    "\n",
    "% matplotlib inline"
   ]
  },
  {
   "cell_type": "code",
   "execution_count": 3,
   "metadata": {
    "collapsed": true
   },
   "outputs": [],
   "source": [
    "train_df = pd.read_csv('data/data_analys.csv', index_col=0)"
   ]
  },
  {
   "cell_type": "markdown",
   "metadata": {},
   "source": [
    "### Load train transformed"
   ]
  },
  {
   "cell_type": "code",
   "execution_count": 4,
   "metadata": {
    "scrolled": true
   },
   "outputs": [
    {
     "name": "stdout",
     "output_type": "stream",
     "text": [
      "     0/ 22897 images loaded\n",
      "  5000/ 22897 images loaded\n",
      " 10000/ 22897 images loaded\n",
      " 15000/ 22897 images loaded\n",
      " 20000/ 22897 images loaded\n",
      "CPU times: user 1min 17s, sys: 4.05 s, total: 1min 21s\n",
      "Wall time: 1min 27s\n"
     ]
    }
   ],
   "source": [
    "% % time\n",
    "\n",
    "dir_train_transformed = 'data/train_transformed'\n",
    "# img parameters\n",
    "img_shape = (64, 64)\n",
    "channels = 3\n",
    "img_shape_flattened = img_shape[0] * img_shape[1] * channels\n",
    "img_qty = train_df.shape[0]\n",
    "\n",
    "# initialize X,y\n",
    "X = np.empty(shape=(img_qty, img_shape_flattened), dtype=np.int8)\n",
    "y = np.empty(shape=(img_qty,), dtype=np.uint16)\n",
    "\n",
    "# read images\n",
    "for i, f_name in enumerate(os.listdir(dir_train_transformed)):\n",
    "    if i % 5000 == 0:\n",
    "        print('{:6d}/{:6d} images loaded'.format(i, img_qty))\n",
    "\n",
    "    img_path = os.path.join(dir_train_transformed, f_name)\n",
    "    X[i, :] = misc.imread(img_path).flatten('C')  # since img is np.ndarray, flatten in row-style\n",
    "    y[i] = train_df.loc[train_df['image_name'] == f_name, 'target'].iloc[0]"
   ]
  },
  {
   "cell_type": "code",
   "execution_count": 5,
   "metadata": {
    "collapsed": true
   },
   "outputs": [],
   "source": [
    "X_train, X_test, y_train, y_test = train_test_split(X, y, test_size=0.3, stratify=y)"
   ]
  },
  {
   "cell_type": "markdown",
   "metadata": {},
   "source": [
    "### Find optimal PCA components"
   ]
  },
  {
   "cell_type": "code",
   "execution_count": null,
   "metadata": {
    "scrolled": true
   },
   "outputs": [],
   "source": [
    "% % time\n",
    "pca = PCA(n_components=5000).fit(X_train)\n",
    "print('{}'.format(np.cumsum(pca.explained_variance_ratio_)))"
   ]
  },
  {
   "cell_type": "code",
   "execution_count": null,
   "metadata": {},
   "outputs": [],
   "source": [
    "round(np.cumsum(pca.explained_variance_ratio_)[-1400], 4)"
   ]
  },
  {
   "cell_type": "code",
   "execution_count": null,
   "metadata": {
    "scrolled": true
   },
   "outputs": [],
   "source": [
    "plt.plot(np.cumsum(pca.explained_variance_ratio_))\n",
    "plt.xlabel('Number of components')\n",
    "plt.ylabel('Total explained variance')\n",
    "plt.yticks(np.arange(0, 1.1, 0.1))\n",
    "plt.xticks(np.arange(0, 5000, 500))\n",
    "plt.axhline(0.9, c='r');"
   ]
  },
  {
   "cell_type": "markdown",
   "metadata": {},
   "source": [
    "10-48"
   ]
  },
  {
   "cell_type": "code",
   "execution_count": 6,
   "metadata": {},
   "outputs": [
    {
     "name": "stdout",
     "output_type": "stream",
     "text": [
      "CPU times: user 21min 32s, sys: 1min 56s, total: 23min 28s\n",
      "Wall time: 13min 51s\n"
     ]
    }
   ],
   "source": [
    "% % time\n",
    "pca = PCA(n_components=3600)\n",
    "\n",
    "X_train_sc = X_train / 255\n",
    "X_train_pca = pca.fit_transform(X_train_sc)"
   ]
  },
  {
   "cell_type": "code",
   "execution_count": 7,
   "metadata": {},
   "outputs": [
    {
     "name": "stdout",
     "output_type": "stream",
     "text": [
      "CPU times: user 36.2 s, sys: 7.49 s, total: 43.7 s\n",
      "Wall time: 37.8 s\n"
     ]
    }
   ],
   "source": [
    "% % time\n",
    "X_test_sc = X_test / 255\n",
    "X_test_pca = pca.transform(X_test_sc)"
   ]
  },
  {
   "cell_type": "code",
   "execution_count": 8,
   "metadata": {
    "collapsed": true
   },
   "outputs": [],
   "source": [
    "reg = LogisticRegression(random_state=42,\n",
    "                         n_jobs=-1,\n",
    "                         class_weight='balanced')"
   ]
  },
  {
   "cell_type": "code",
   "execution_count": 21,
   "metadata": {},
   "outputs": [],
   "source": [
    "param_dist = {'C': [0.1, 0.2, 0.3, 0.4, 0.5, 0.6, 0.7, 0.8],\n",
    "              'penalty': ['l1', 'l2']}\n",
    "\n",
    "n_iter_search = 20\n",
    "random_search = RandomizedSearchCV(reg, param_distributions=param_dist, verbose=2, n_jobs=-1)"
   ]
  },
  {
   "cell_type": "code",
   "execution_count": null,
   "metadata": {},
   "outputs": [
    {
     "name": "stdout",
     "output_type": "stream",
     "text": [
      "Fitting 3 folds for each of 10 candidates, totalling 30 fits\n",
      "[CV] penalty=l1, C=0.7 ...............................................\n",
      "[CV] penalty=l1, C=0.7 ...............................................\n",
      "[CV] penalty=l1, C=0.7 ...............................................\n",
      "[CV] penalty=l1, C=0.4 ...............................................\n"
     ]
    }
   ],
   "source": [
    "from time import time\n",
    "\n",
    "start = time()\n",
    "random_search.fit(X_train_pca, y_train)\n",
    "print(\"RandomizedSearchCV took %.2f seconds for %d candidates\"\n",
    "      \" parameter settings.\" % ((time() - start), n_iter_search))\n",
    "report(random_search.cv_results_)"
   ]
  },
  {
   "cell_type": "code",
   "execution_count": 9,
   "metadata": {},
   "outputs": [
    {
     "name": "stdout",
     "output_type": "stream",
     "text": [
      "[LibLinear]CPU times: user 1h 55min 11s, sys: 1min 21s, total: 1h 56min 32s\n",
      "Wall time: 2h 1min 36s\n"
     ]
    },
    {
     "data": {
      "text/plain": [
       "LogisticRegression(C=0.1, class_weight='balanced', dual=False,\n",
       "          fit_intercept=True, intercept_scaling=1, max_iter=50,\n",
       "          multi_class='ovr', n_jobs=-1, penalty='l2', random_state=42,\n",
       "          solver='liblinear', tol=0.0001, verbose=2, warm_start=False)"
      ]
     },
     "execution_count": 9,
     "metadata": {},
     "output_type": "execute_result"
    }
   ],
   "source": [
    "% % time\n",
    "reg.fit(X_train_pca, y_train)"
   ]
  },
  {
   "cell_type": "code",
   "execution_count": 11,
   "metadata": {},
   "outputs": [
    {
     "name": "stdout",
     "output_type": "stream",
     "text": [
      "accuracy: 0.9669931989767268\n",
      "accuracy: 0.08471615720524017\n"
     ]
    }
   ],
   "source": [
    "accuracy(y_train, reg.predict(X_train_pca))\n",
    "accuracy(y_test, reg.predict(X_test_pca))"
   ]
  },
  {
   "cell_type": "code",
   "execution_count": 1,
   "outputs": [],
   "source": [
    "def accuracy(y, y_pred):\n",
    "    print('accuracy: {}'.format(accuracy_score(y, y_pred)))"
   ],
   "metadata": {
    "collapsed": false,
    "pycharm": {
     "name": "#%%\n"
    }
   }
  },
  {
   "cell_type": "markdown",
   "metadata": {},
   "source": [
    "### Making pipeline"
   ]
  },
  {
   "cell_type": "code",
   "execution_count": null,
   "metadata": {
    "collapsed": true
   },
   "outputs": [],
   "source": [
    "pca = PCA(n_components=50)\n",
    "svc = LogisticRegression(random_state=42, C=0.1, max_iter=50, verbose=2, n_jobs=-1, class_weight='balanced')\n",
    "scaler = StandardScaler()\n",
    "\n",
    "model = Pipeline((('scaler', scaler), ('dim_reduction', pca), ('classifier', svc)))"
   ]
  },
  {
   "cell_type": "code",
   "execution_count": null,
   "metadata": {
    "collapsed": true,
    "scrolled": true
   },
   "outputs": [],
   "source": [
    "% % time\n",
    "model.fit(X_train, y_train)"
   ]
  },
  {
   "cell_type": "markdown",
   "metadata": {},
   "source": [
    "### Load validation transformed set"
   ]
  },
  {
   "cell_type": "code",
   "execution_count": 12,
   "metadata": {},
   "outputs": [
    {
     "name": "stdout",
     "output_type": "stream",
     "text": [
      "0 images loaded\n",
      "2000 images loaded\n",
      "4000 images loaded\n",
      "6000 images loaded\n",
      "CPU times: user 3.6 s, sys: 1.33 s, total: 4.94 s\n",
      "Wall time: 5.87 s\n"
     ]
    }
   ],
   "source": [
    "% % time\n",
    "\n",
    "train_df = pd.read_csv('data/data_analys.csv', index_col=0)\n",
    "dir_test_transformed = 'data/test_transformed'\n",
    "\n",
    "X_val = np.empty(shape=(img_qty, img_shape_flattened), dtype=np.int8)\n",
    "\n",
    "# read images\n",
    "for i, f_name in enumerate(os.listdir(dir_test_transformed)):\n",
    "    if i % 2000 == 0:\n",
    "        print('{} images loaded'.format(i))\n",
    "\n",
    "    img_path = os.path.join(dir_test_transformed, f_name)\n",
    "    X_val[i, :] = misc.imread(img_path).flatten('C')  # since img is np.ndarray, flatten in row-style"
   ]
  },
  {
   "cell_type": "markdown",
   "metadata": {},
   "source": [
    "### Normalization and dimensionality reduction for validation set"
   ]
  },
  {
   "cell_type": "code",
   "execution_count": null,
   "metadata": {
    "collapsed": true
   },
   "outputs": [],
   "source": [
    "X_val_sc = X_val / 255\n",
    "X_val_pca = pca.transform(X_val_sc)"
   ]
  },
  {
   "cell_type": "code",
   "execution_count": 16,
   "metadata": {},
   "outputs": [
    {
     "name": "stdout",
     "output_type": "stream",
     "text": [
      "CPU times: user 2min 8s, sys: 1min 4s, total: 3min 13s\n",
      "Wall time: 2min 39s\n"
     ]
    }
   ],
   "source": [
    "% % time\n",
    "\n",
    "y_pred = reg.predict(X_val_pca)\n",
    "\n",
    "sub = pd.DataFrame(\n",
    "    data=[row for row in zip(os.listdir(dir_test_transformed), y_pred.astype(int).tolist())],\n",
    "    columns=['image', 'class']\n",
    ")\n",
    "sub.to_csv('lr_baseline.csv', encoding='utf-8', index=False)"
   ]
  }
 ],
 "metadata": {
  "kernelspec": {
   "display_name": "Python 3",
   "language": "python",
   "name": "python3"
  },
  "language_info": {
   "codemirror_mode": {
    "name": "ipython",
    "version": 3
   },
   "file_extension": ".py",
   "mimetype": "text/x-python",
   "name": "python",
   "nbconvert_exporter": "python",
   "pygments_lexer": "ipython3",
   "version": "3.6.1"
  }
 },
 "nbformat": 4,
 "nbformat_minor": 2
}