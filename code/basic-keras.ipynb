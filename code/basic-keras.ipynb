{
 "cells": [
  {
   "cell_type": "markdown",
   "metadata": {},
   "source": [
    "### CNN\n",
    "* http://andrew.gibiansky.com/blog/machine-learning/convolutional-neural-networks/\n",
    "* http://www.wildml.com/2015/11/understanding-convolutional-neural-networks-for-nlp/\n",
    "* https://medium.com/@ageitgey/machine-learning-is-fun-part-3-deep-learning-and-convolutional-neural-networks-f40359318721\n",
    "* https://algotravelling.com/ru/%D0%BC%D0%B0%D1%88%D0%B8%D0%BD%D0%BD%D0%BE%D0%B5-%D0%BE%D0%B1%D1%83%D1%87%D0%B5%D0%BD%D0%B8%D0%B5-%D1%8D%D1%82%D0%BE-%D0%B2%D0%B5%D1%81%D0%B5%D0%BB%D0%BE-3/\n",
    "* https://adeshpande3.github.io/adeshpande3.github.io/A-Beginner's-Guide-To-Understanding-Convolutional-Neural-Networks-Part-2/\n",
    "* https://medium.com/@karpathy/yes-you-should-understand-backprop-e2f06eab496b\n",
    "* https://www.asozykin.ru/courses/nnpython\n",
    "* https://www.tensorflow.org/tutorials/deep_cnn#convolutional-neural-networks"
   ]
  },
  {
   "cell_type": "markdown",
   "metadata": {},
   "source": [
    "## Papers\n",
    "* https://arxiv.org/pdf/1512.03385.pdf - resnet\n",
    "* https://arxiv.org/pdf/1409.1556.pdf - vgg16"
   ]
  },
  {
   "cell_type": "code",
   "execution_count": 1,
   "metadata": {},
   "outputs": [
    {
     "name": "stderr",
     "output_type": "stream",
     "text": [
      "Using TensorFlow backend.\n"
     ]
    }
   ],
   "source": [
    "from scipy import ndimage\n",
    "import numpy as np\n",
    "import pandas as pd\n",
    "import os\n",
    "from IPython.display import display, Image\n",
    "from scipy import misc\n",
    "import matplotlib.pyplot as plt\n",
    "import tensorflow\n",
    "import seaborn\n",
    "\n",
    "from sklearn.model_selection import train_test_split\n",
    "\n",
    "from keras.models import Sequential, load_model\n",
    "from keras.layers import Conv2D, MaxPooling2D, Activation, Dropout, Flatten, Dense, BatchNormalization, GlobalAveragePooling2D\n",
    "from keras.optimizers import SGD, Adam\n",
    "from keras.callbacks import ModelCheckpoint, TensorBoard, EarlyStopping, ReduceLROnPlateau\n",
    "from keras.utils import to_categorical\n",
    "from keras.preprocessing.image import ImageDataGenerator\n",
    "\n",
    "%matplotlib inline"
   ]
  },
  {
   "cell_type": "markdown",
   "metadata": {},
   "source": [
    "### Keras"
   ]
  },
  {
   "cell_type": "markdown",
   "metadata": {},
   "source": [
    "Виктор\n",
    "* арима для каждого игрока\n",
    "* последние 2 месяца\n",
    "* фб профит либа"
   ]
  },
  {
   "cell_type": "markdown",
   "metadata": {},
   "source": [
    "* уменьшить число фич - можно побить бейслайн"
   ]
  },
  {
   "cell_type": "markdown",
   "metadata": {},
   "source": [
    "vgg для 224\\224\n",
    "keras vgg\n",
    "уменьшить количество каналов в 4 раза\n",
    "resnet: первый слов свертка 7х7 пулинг 3х3 убрать\n",
    "конва + идентити блок\n",
    "\n",
    "\n"
   ]
  },
  {
   "cell_type": "code",
   "execution_count": 2,
   "metadata": {
    "collapsed": true
   },
   "outputs": [],
   "source": [
    "img_width = img_height = 64\n",
    "img_channels = 3"
   ]
  },
  {
   "cell_type": "code",
   "execution_count": 3,
   "metadata": {
    "collapsed": true
   },
   "outputs": [],
   "source": [
    "def add_conv2d(model, kernel_size, filter_size = (3, 3), padding='same', activation='relu'):\n",
    "    model.add(Conv2D(kernel_size, filter_size, padding=padding))\n",
    "    model.add(BatchNormalization())\n",
    "    model.add(Activation(activation))\n",
    "    \n",
    "def add_dens(model, kernel_size, activation='relu'):\n",
    "    model.add(Dense(kernel_size))\n",
    "    model.add(BatchNormalization())\n",
    "    model.add(Activation(activation))"
   ]
  },
  {
   "cell_type": "markdown",
   "metadata": {},
   "source": [
    "# VGG16"
   ]
  },
  {
   "cell_type": "code",
   "execution_count": null,
   "metadata": {},
   "outputs": [],
   "source": [
    "first = 32\n",
    "second = 64\n",
    "third = 128\n",
    "fourth = fifth = 256\n",
    "filter_size = (3,3)\n",
    "\n",
    "model = Sequential()\n",
    "# first\n",
    "model.add(Conv2D(first, filter_size, padding='same', input_shape=(img_width, img_height, img_channels)))\n",
    "model.add(BatchNormalization())\n",
    "model.add(Activation('relu'))\n",
    "add_conv2d(model, first)\n",
    "model.add(MaxPooling2D(pool_size = (2, 2), strides=(2, 2)))\n",
    "\n",
    "# second\n",
    "add_conv2d(model, second)\n",
    "add_conv2d(model, second)\n",
    "model.add(MaxPooling2D(pool_size = (2, 2), strides=(2, 2)))\n",
    "\n",
    "# third\n",
    "add_conv2d(model, third)\n",
    "add_conv2d(model, third)\n",
    "add_conv2d(model, third)\n",
    "model.add(MaxPooling2D(pool_size = (2, 2), strides=(2, 2)))\n",
    "\n",
    "# fourth\n",
    "add_conv2d(model, fourth)\n",
    "add_conv2d(model, fourth)\n",
    "add_conv2d(model, fourth)\n",
    "model.add(MaxPooling2D(pool_size = (2, 2), strides=(2, 2)))\n",
    "\n",
    "# fifth\n",
    "add_conv2d(model, fifth)\n",
    "add_conv2d(model, fifth)\n",
    "add_conv2d(model, fifth)\n",
    "model.add(MaxPooling2D(pool_size = (2, 2), strides=(2, 2)))\n",
    "\n",
    "model.add(GlobalAveragePooling2D())\n",
    "add_dens(model, 2048)\n",
    "add_dens(model, 2048)\n",
    "add_dens(model, 256, activation='softmax')"
   ]
  },
  {
   "cell_type": "markdown",
   "metadata": {},
   "source": [
    "# VGG19"
   ]
  },
  {
   "cell_type": "code",
   "execution_count": null,
   "metadata": {
    "collapsed": true
   },
   "outputs": [],
   "source": [
    "first = 32\n",
    "second = 64\n",
    "third = 128\n",
    "fourth = fifth = 256\n",
    "filter_size = (3,3)\n",
    "\n",
    "model = Sequential()\n",
    "# first\n",
    "model.add(Conv2D(first, filter_size, padding='same', input_shape=(img_width, img_height, img_channels)))\n",
    "model.add(BatchNormalization())\n",
    "model.add(Activation('relu'))\n",
    "add_conv2d(model, first)\n",
    "model.add(MaxPooling2D(pool_size = (2, 2), strides=(2, 2)))\n",
    "\n",
    "# second\n",
    "add_conv2d(model, second)\n",
    "add_conv2d(model, second)\n",
    "model.add(MaxPooling2D(pool_size = (2, 2), strides=(2, 2)))\n",
    "\n",
    "# third\n",
    "add_conv2d(model, third)\n",
    "add_conv2d(model, third)\n",
    "add_conv2d(model, third)\n",
    "add_conv2d(model, third)\n",
    "model.add(MaxPooling2D(pool_size = (2, 2), strides=(2, 2)))\n",
    "\n",
    "# fourth\n",
    "add_conv2d(model, fourth)\n",
    "add_conv2d(model, fourth)\n",
    "add_conv2d(model, fourth)\n",
    "add_conv2d(model, fourth)\n",
    "model.add(MaxPooling2D(pool_size = (2, 2), strides=(2, 2)))\n",
    "\n",
    "# fifth\n",
    "add_conv2d(model, fifth)\n",
    "add_conv2d(model, fifth)\n",
    "add_conv2d(model, fifth)\n",
    "add_conv2d(model, fifth)\n",
    "model.add(MaxPooling2D(pool_size = (2, 2), strides=(2, 2)))\n",
    "\n",
    "model.add(GlobalAveragePooling2D())\n",
    "add_dens(model, 2048)\n",
    "add_dens(model, 2048)\n",
    "add_dens(model, 256, activation='softmax')"
   ]
  },
  {
   "cell_type": "code",
   "execution_count": null,
   "metadata": {
    "scrolled": true
   },
   "outputs": [],
   "source": [
    "model.count_params()"
   ]
  },
  {
   "cell_type": "code",
   "execution_count": null,
   "metadata": {
    "collapsed": true
   },
   "outputs": [],
   "source": [
    "model.compile(loss='categorical_crossentropy',\n",
    "#               0.0004\n",
    "              optimizer=Adam(lr=0.0005),\n",
    "              metrics=['accuracy'])"
   ]
  },
  {
   "cell_type": "code",
   "execution_count": 6,
   "metadata": {},
   "outputs": [
    {
     "name": "stdout",
     "output_type": "stream",
     "text": [
      "Found 19540 images belonging to 256 classes.\n",
      "Found 2560 images belonging to 256 classes.\n",
      "Found 7680 images belonging to 1 classes.\n"
     ]
    }
   ],
   "source": [
    "batch_size = 128\n",
    "\n",
    "dir_transformed = '../output'+str(img_width)\n",
    "dir_train = os.path.join(dir_transformed, 'train')\n",
    "dir_val = os.path.join(dir_transformed, 'validation')\n",
    "dir_test = os.path.join(dir_transformed, 'test')\n",
    "\n",
    "train_datagen = ImageDataGenerator(\n",
    "        rotation_range=40,\n",
    "        width_shift_range=0.2,\n",
    "        height_shift_range=0.2,\n",
    "        rescale=1./255,\n",
    "        shear_range=0.2,\n",
    "        zoom_range=0.2,\n",
    "        horizontal_flip=True,\n",
    "        fill_mode='nearest')\n",
    "\n",
    "train_generator = train_datagen.flow_from_directory(\n",
    "    dir_train,\n",
    "    target_size=(img_width, img_height),\n",
    "    batch_size=batch_size,\n",
    "    class_mode='categorical')\n",
    "\n",
    "val_datagen = ImageDataGenerator(rescale=1. / 255)\n",
    "\n",
    "val_generator = val_datagen.flow_from_directory(\n",
    "    dir_val,\n",
    "    target_size=(img_width, img_height),\n",
    "    batch_size=batch_size,\n",
    "    class_mode='categorical')\n",
    "\n",
    "test_generator = val_datagen.flow_from_directory(\n",
    "    dir_test,\n",
    "    target_size=(img_width, img_height),\n",
    "    batch_size=batch_size,\n",
    "    shuffle=False)"
   ]
  },
  {
   "cell_type": "code",
   "execution_count": null,
   "metadata": {
    "collapsed": true
   },
   "outputs": [],
   "source": [
    "callback_1 = TensorBoard(log_dir='./logs', histogram_freq=0, write_graph=False, write_images=False)\n",
    "callback_2 = EarlyStopping(monitor='val_acc', min_delta=0, patience=5, verbose=0, mode='auto')\n",
    "callback_3 = ModelCheckpoint('model-{epoch:02d}-{val_acc:.3f}-{val_loss:.3f}.hdf5', monitor='val_acc', save_best_only=True, verbose=1)\n",
    "callback_4 = ReduceLROnPlateau(monitor = 'val_loss', factor = 0.1, patience = 5, min_lr = 0.0001)"
   ]
  },
  {
   "cell_type": "code",
   "execution_count": null,
   "metadata": {
    "scrolled": true
   },
   "outputs": [],
   "source": [
    "%%time\n",
    "model.fit_generator(\n",
    "    train_generator,\n",
    "    steps_per_epoch=100,\n",
    "    epochs=20,\n",
    "    validation_data=val_generator,\n",
    "    validation_steps=20,\n",
    "    callbacks=[callback_1, callback_2, callback_3]\n",
    ")"
   ]
  },
  {
   "cell_type": "code",
   "execution_count": null,
   "metadata": {
    "scrolled": true
   },
   "outputs": [],
   "source": [
    "model.summary()"
   ]
  },
  {
   "cell_type": "code",
   "execution_count": 4,
   "metadata": {},
   "outputs": [],
   "source": [
    "model = load_model('../results/model.hdf5', compile=False)\n",
    "model.compile(loss='categorical_crossentropy',\n",
    "              optimizer=Adam(lr=0.001),\n",
    "              metrics=['accuracy'])"
   ]
  },
  {
   "cell_type": "code",
   "execution_count": 7,
   "metadata": {
    "scrolled": true
   },
   "outputs": [
    {
     "data": {
      "text/plain": [
       "[3.6606045042882198, 0.32902151639344263]"
      ]
     },
     "execution_count": 7,
     "metadata": {},
     "output_type": "execute_result"
    }
   ],
   "source": [
    "model.evaluate_generator(val_generator, \n",
    "                         steps=len(test_generator.filenames) // batch_size + 1)"
   ]
  },
  {
   "cell_type": "code",
   "execution_count": null,
   "metadata": {
    "scrolled": true
   },
   "outputs": [],
   "source": [
    "results = model.predict_generator(test_generator, \n",
    "                                  steps=len(test_generator.filenames) // batch_size + 1)\n",
    "results = np.argmax(results, axis=1)+1\n",
    "\n",
    "# create submission dataframe (in specified kaggle format)\n",
    "sub = pd.DataFrame(\n",
    "    data=[row for row in zip([i.split(\"/\")[1] for i in test_generator.filenames], results.astype(int).tolist())],\n",
    "    columns=['image', 'class']\n",
    ")"
   ]
  },
  {
   "cell_type": "code",
   "execution_count": null,
   "metadata": {
    "scrolled": true
   },
   "outputs": [],
   "source": [
    "sub_name = '../results/sub-0.32-3.55.csv'\n",
    "sub.to_csv(sub_name, encoding='utf-8', index=False)"
   ]
  }
 ],
 "metadata": {
  "kernelspec": {
   "display_name": "Python 3",
   "language": "python",
   "name": "python3"
  },
  "language_info": {
   "codemirror_mode": {
    "name": "ipython",
    "version": 3
   },
   "file_extension": ".py",
   "mimetype": "text/x-python",
   "name": "python",
   "nbconvert_exporter": "python",
   "pygments_lexer": "ipython3",
   "version": "3.6.1"
  }
 },
 "nbformat": 4,
 "nbformat_minor": 1
}
