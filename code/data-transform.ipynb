{
 "cells": [
  {
   "cell_type": "code",
   "execution_count": 2,
   "metadata": {
    "scrolled": true
   },
   "outputs": [
    {
     "name": "stderr",
     "output_type": "stream",
     "text": [
      "Using TensorFlow backend.\n"
     ]
    }
   ],
   "source": [
    "import os\n",
    "from scipy import misc\n",
    "import numpy as np\n",
    "import pandas as pd\n",
    "from keras.preprocessing.image import ImageDataGenerator\n",
    "import tensorflow"
   ]
  },
  {
   "cell_type": "code",
   "execution_count": 3,
   "metadata": {
    "collapsed": true
   },
   "outputs": [],
   "source": [
    "def create_dir(directory):\n",
    "    os.makedirs(directory)"
   ]
  },
  {
   "cell_type": "code",
   "execution_count": 4,
   "metadata": {
    "collapsed": true
   },
   "outputs": [],
   "source": [
    "def check_dir(directory):\n",
    "    if not os.path.exists(directory):\n",
    "        create_dir(directory)"
   ]
  },
  {
   "cell_type": "markdown",
   "metadata": {},
   "source": [
    "### Split and transform train data to train and val"
   ]
  },
  {
   "cell_type": "code",
   "execution_count": 15,
   "metadata": {},
   "outputs": [],
   "source": [
    "width = height = 32\n",
    "image_size = (width, height)\n",
    "dir_transformed = '../output/transformed'+str(width)"
   ]
  },
  {
   "cell_type": "code",
   "execution_count": 7,
   "metadata": {
    "scrolled": false
   },
   "outputs": [
    {
     "name": "stdout",
     "output_type": "stream",
     "text": [
      "folder - 010.beer-mug, validation size - 16, total size - 64\n",
      "folder - 020.brain-101, validation size - 13, total size - 53\n",
      "folder - 030.canoe, validation size - 18, total size - 74\n",
      "folder - 040.cockroach, validation size - 23, total size - 94\n",
      "folder - 050.covered-wagon, validation size - 16, total size - 67\n",
      "folder - 060.duck, validation size - 14, total size - 57\n",
      "folder - 070.fire-extinguisher, validation size - 13, total size - 54\n",
      "folder - 080.frog, validation size - 21, total size - 86\n",
      "folder - 090.gorilla, validation size - 45, total size - 182\n",
      "folder - 100.hawksbill-101, validation size - 15, total size - 63\n",
      "folder - 110.hourglass, validation size - 13, total size - 55\n",
      "folder - 120.joy-stick, validation size - 25, total size - 100\n",
      "folder - 130.license-plate, validation size - 15, total size - 61\n",
      "folder - 140.menorah-101, validation size - 14, total size - 59\n",
      "folder - 150.octopus, validation size - 20, total size - 81\n",
      "folder - 160.pez-dispenser, validation size - 13, total size - 53\n",
      "folder - 170.rainbow, validation size - 18, total size - 72\n",
      "folder - 180.screwdriver, validation size - 18, total size - 72\n",
      "folder - 190.snake, validation size - 20, total size - 82\n",
      "folder - 200.stained-glass, validation size - 17, total size - 70\n",
      "folder - 210.syringe, validation size - 20, total size - 81\n",
      "folder - 220.toaster, validation size - 16, total size - 64\n",
      "folder - 230.trilobite-101, validation size - 16, total size - 64\n",
      "folder - 240.watch-101, validation size - 42, total size - 171\n",
      "folder - 250.zebra, validation size - 16, total size - 66\n",
      "CPU times: user 3min 48s, sys: 24.5 s, total: 4min 13s\n",
      "Wall time: 5min 11s\n"
     ]
    }
   ],
   "source": [
    "%%time\n",
    "dir_train_transformed = os.path.join(dir_transformed, 'train')\n",
    "dir_val_transformed = os.path.join(dir_transformed, 'validation')\n",
    "\n",
    "dir_train = '../input/train'\n",
    "test_size = 0.25\n",
    "    \n",
    "for ind, folder in enumerate(os.listdir(dir_train)):\n",
    "        subfolder = os.path.join(dir_train, folder)\n",
    "        if os.path.isdir(subfolder):\n",
    "            image_class = folder[:3]\n",
    "            \n",
    "            val_size = int(test_size * len(os.listdir(subfolder)))\n",
    "            val_count = 0\n",
    "            dir_train_to_save = os.path.join(dir_train_transformed, image_class)\n",
    "            dir_val_to_save = os.path.join(dir_val_transformed, image_class)\n",
    "            check_dir(dir_train_to_save)\n",
    "            check_dir(dir_val_to_save)\n",
    "            \n",
    "            if ind % 10 == 0:\n",
    "                print('folder - {}, validation size - {}, total size - {}'.format(folder, val_size, len(os.listdir(subfolder))))\n",
    "            for image_file in os.listdir(subfolder):\n",
    "                if not image_file.startswith('.'):\n",
    "                    name = os.path.join(subfolder, image_file)\n",
    "                    image = misc.imread(name)\n",
    "                    if len(image.shape) == 2:\n",
    "                        image = np.stack((image,)*3)\n",
    "                    image = misc.imresize(image, image_size, interp='bicubic')\n",
    "                    if val_count < val_size:\n",
    "                        fold_to_save = os.path.join(dir_val_to_save, image_file)\n",
    "                        misc.imsave(fold_to_save, image)\n",
    "                        val_count = val_count + 1\n",
    "                    else:\n",
    "                        fold_to_save = os.path.join(dir_train_to_save, image_file)\n",
    "                        misc.imsave(fold_to_save, image)"
   ]
  },
  {
   "cell_type": "markdown",
   "metadata": {},
   "source": [
    "### Transform test data"
   ]
  },
  {
   "cell_type": "code",
   "execution_count": 9,
   "metadata": {
    "scrolled": true
   },
   "outputs": [
    {
     "name": "stdout",
     "output_type": "stream",
     "text": [
      "0\n",
      "600\n",
      "1200\n",
      "1800\n",
      "2400\n",
      "3000\n",
      "3600\n",
      "4200\n",
      "4800\n",
      "5400\n",
      "6000\n",
      "6600\n",
      "7200\n",
      "CPU times: user 1min 25s, sys: 9.22 s, total: 1min 34s\n",
      "Wall time: 1min 56s\n"
     ]
    }
   ],
   "source": [
    "%%time\n",
    "dir_test_transformed = os.path.join(dir_transformed, 'test/test')\n",
    "dir_test = '../input/test'\n",
    "\n",
    "check_dir(dir_test_transformed)\n",
    "for ind, image_name in enumerate(os.listdir(dir_test)):\n",
    "        if ind % 600 == 0:\n",
    "            print('{}'.format(ind))\n",
    "        if not image_name.startswith('.'):\n",
    "            name = os.path.join(dir_test, image_name)\n",
    "            image = misc.imread(name)\n",
    "            if len(image.shape) == 2:\n",
    "                image = np.stack((image,)*3)\n",
    "            image = misc.imresize(image, image_size, interp='bicubic')\n",
    "            fold_to_save = os.path.join(dir_test_transformed, image_name)\n",
    "            misc.imsave(fold_to_save, image)"
   ]
  },
  {
   "cell_type": "code",
   "execution_count": null,
   "metadata": {
    "collapsed": true
   },
   "outputs": [],
   "source": [
    "def save(dir_from, dir_to):\n",
    "    for ind, folder in enumerate(os.listdir(dir_from)):\n",
    "        subfolder = os.path.join(dir_from, folder)\n",
    "        if os.path.isdir(subfolder):\n",
    "            image_class = folder[:3]\n",
    "            dir_train_to_save = os.path.join(dir_to, image_class)\n",
    "            check_dir(dir_train_to_save)\n",
    "            \n",
    "            if ind % 10 == 0:\n",
    "                print('folder - {}'.format(folder))\n",
    "            for image_file in os.listdir(subfolder):\n",
    "                if not image_file.startswith('.'):\n",
    "                    name = os.path.join(subfolder, image_file)\n",
    "                    image = misc.imread(name)\n",
    "                    if len(image.shape) == 2:\n",
    "                        image = np.stack((image,)*3)\n",
    "                    image = misc.imresize(image, image_size, interp='bicubic')\n",
    "                    fold_to_save = os.path.join(dir_train_to_save, image_file)\n",
    "                    misc.imsave(fold_to_save, image)"
   ]
  },
  {
   "cell_type": "code",
   "execution_count": null,
   "metadata": {
    "collapsed": true,
    "scrolled": false
   },
   "outputs": [],
   "source": [
    "save('data/train', 'data/train_resized')"
   ]
  },
  {
   "cell_type": "code",
   "execution_count": null,
   "metadata": {
    "collapsed": true,
    "scrolled": true
   },
   "outputs": [],
   "source": [
    "dir_train = 'data/train_resized'\n",
    "dir_train_augmented = 'data/train_augmented'\n",
    "samples_threshhold = 775\n",
    "\n",
    "datagen = ImageDataGenerator(\n",
    "        rotation_range=40,\n",
    "        width_shift_range=0.2,\n",
    "        height_shift_range=0.2,\n",
    "        shear_range=0.2,\n",
    "        zoom_range=0.2,\n",
    "        horizontal_flip=True,\n",
    "        fill_mode='nearest')\n",
    "\n",
    "for ind, folder in enumerate(os.listdir(dir_train)):\n",
    "    subfolder = os.path.join(dir_train, folder)\n",
    "    if os.path.isdir(subfolder):            \n",
    "        dir_train_to_save = os.path.join(dir_train_transformed, image_class)\n",
    "        check_dir(dir_train_to_save)\n",
    "\n",
    "        if ind % 20 == 0:\n",
    "            print('folder - {}'.format(folder))\n",
    "        needed_augmented_images = samples_threshhold - len(os.listdir(subfolder))\n",
    "        dir_to_save = os.path.join(dir_train_augmented, folder)\n",
    "        check_dir(dir_to_save)\n",
    "        \n",
    "        print(needed_augmented_images, ' ###### ', folder)\n",
    "        for image_file in os.listdir(subfolder):\n",
    "            if not image_file.startswith('.'):\n",
    "                name = os.path.join(subfolder, image_file)\n",
    "                image = misc.imread(name)\n",
    "                #misc.imsave(dir_to_save, image)\n",
    "                \n",
    "                image = image.reshape((1,) + image.shape)\n",
    "                \n",
    "                for batch in datagen.flow(image, batch_size=1,\n",
    "                      save_to_dir=dir_to_save, save_format='jpeg'):\n",
    "                    needed_augmented_images -= 1\n",
    "                    if needed_augmented_images < 0:\n",
    "                        break"
   ]
  },
  {
   "cell_type": "markdown",
   "metadata": {},
   "source": [
    "### Transform images for keras"
   ]
  },
  {
   "cell_type": "code",
   "execution_count": null,
   "metadata": {
    "collapsed": true,
    "scrolled": true
   },
   "outputs": [],
   "source": [
    "train_df = pd.read_csv('data/data_analys.csv', index_col = 0)"
   ]
  },
  {
   "cell_type": "code",
   "execution_count": null,
   "metadata": {
    "collapsed": true,
    "scrolled": true
   },
   "outputs": [],
   "source": [
    "images = np.zeros((train_df.shape[0], 64, 64, 3), dtype='uint8')\n",
    "targets = np.zeros((train_df.shape[0],), dtype='object')"
   ]
  },
  {
   "cell_type": "code",
   "execution_count": null,
   "metadata": {
    "collapsed": true
   },
   "outputs": [],
   "source": [
    "dir_train = 'data/train_transformed'\n",
    "img_size=(64, 64)\n",
    "\n",
    "i =0\n",
    "for ind, image_name in enumerate(os.listdir(dir_train)):\n",
    "    image_file = os.path.join(dir_train, image_name)\n",
    "    if ind % 2000 == 0:\n",
    "        print('{}'.format(ind))\n",
    "    if not image_file.startswith('.'):\n",
    "        #name = os.path.join(subfolder, image_file)\n",
    "        image = misc.imread(image_file)\n",
    "        if len(image.shape) == 2:\n",
    "            image = np.stack((image,)*3)\n",
    "        images[i] = misc.imresize(image, img_size, interp='bicubic')\n",
    "        targets[i] = int(image_name[:3])\n",
    "        i = i+1"
   ]
  },
  {
   "cell_type": "code",
   "execution_count": null,
   "metadata": {
    "collapsed": true
   },
   "outputs": [],
   "source": [
    "np.save('data/keras/train_images.npy', images)\n",
    "np.save('data/keras/targets.npy', targets)"
   ]
  },
  {
   "cell_type": "code",
   "execution_count": null,
   "metadata": {
    "collapsed": true
   },
   "outputs": [],
   "source": [
    "%%time\n",
    "dir_test_name = 'data/test_transformed'\n",
    "dir_test = os.listdir(dir_test_name)\n",
    "img_size=(64, 64)\n",
    "\n",
    "test_images = np.zeros((len(dir_test), img_size[0], img_size[1], 3), dtype='uint8')\n",
    "\n",
    "i = 0\n",
    "for ind, image_name in enumerate(os.listdir(dir_test_name)):\n",
    "        if ind % 600 == 0:\n",
    "            print('{}'.format(ind))\n",
    "        if not image_name.startswith('.'):\n",
    "            name = os.path.join(dir_test_name, image_name)\n",
    "            image = misc.imread(name)\n",
    "            if len(image.shape) == 2:\n",
    "                image = np.stack((image,)*3)\n",
    "            test_images[i] = misc.imresize(image, img_size, interp='bicubic')\n",
    "            i = i+1"
   ]
  },
  {
   "cell_type": "code",
   "execution_count": null,
   "metadata": {
    "collapsed": true
   },
   "outputs": [],
   "source": [
    "np.save('data/keras/test_images.npy', test_images)"
   ]
  }
 ],
 "metadata": {
  "kernelspec": {
   "display_name": "Python 3",
   "language": "python",
   "name": "python3"
  },
  "language_info": {
   "codemirror_mode": {
    "name": "ipython",
    "version": 3
   },
   "file_extension": ".py",
   "mimetype": "text/x-python",
   "name": "python",
   "nbconvert_exporter": "python",
   "pygments_lexer": "ipython3",
   "version": "3.6.1"
  }
 },
 "nbformat": 4,
 "nbformat_minor": 2
}
