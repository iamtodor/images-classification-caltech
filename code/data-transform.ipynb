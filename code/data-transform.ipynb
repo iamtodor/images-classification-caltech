{
 "cells": [
  {
   "cell_type": "code",
   "execution_count": 12,
   "metadata": {
    "collapsed": true
   },
   "outputs": [],
   "source": [
    "import os\n",
    "from scipy import misc\n",
    "import numpy as np\n",
    "import pandas as pd\n",
    "from keras.preprocessing.image import ImageDataGenerator\n",
    "import tensorflow"
   ]
  },
  {
   "cell_type": "code",
   "execution_count": 2,
   "metadata": {
    "collapsed": true
   },
   "outputs": [],
   "source": [
    "def create_dir(directory):\n",
    "    os.makedirs(directory)"
   ]
  },
  {
   "cell_type": "code",
   "execution_count": 3,
   "metadata": {
    "collapsed": true
   },
   "outputs": [],
   "source": [
    "def check_dir(directory):\n",
    "    if not os.path.exists(directory):\n",
    "        create_dir(directory)"
   ]
  },
  {
   "cell_type": "markdown",
   "metadata": {},
   "source": [
    "### Split and transform train data to train and val, 32x32 size"
   ]
  },
  {
   "cell_type": "code",
   "execution_count": 8,
   "metadata": {
    "collapsed": true
   },
   "outputs": [],
   "source": [
    "image_size = (32, 32)"
   ]
  },
  {
   "cell_type": "code",
   "execution_count": 168,
   "metadata": {
    "scrolled": false
   },
   "outputs": [
    {
     "name": "stdout",
     "output_type": "stream",
     "text": [
      "folder - 010.beer-mug, validation size - 16, total size - 64\n",
      "folder - 020.brain-101, validation size - 13, total size - 53\n",
      "folder - 030.canoe, validation size - 18, total size - 74\n",
      "folder - 040.cockroach, validation size - 23, total size - 94\n",
      "folder - 050.covered-wagon, validation size - 16, total size - 67\n",
      "folder - 060.duck, validation size - 14, total size - 57\n",
      "folder - 070.fire-extinguisher, validation size - 13, total size - 54\n",
      "folder - 080.frog, validation size - 21, total size - 86\n",
      "folder - 090.gorilla, validation size - 45, total size - 182\n",
      "folder - 100.hawksbill-101, validation size - 15, total size - 63\n",
      "folder - 110.hourglass, validation size - 13, total size - 55\n",
      "folder - 120.joy-stick, validation size - 25, total size - 100\n",
      "folder - 130.license-plate, validation size - 15, total size - 61\n",
      "folder - 140.menorah-101, validation size - 14, total size - 59\n",
      "folder - 150.octopus, validation size - 20, total size - 81\n",
      "folder - 160.pez-dispenser, validation size - 13, total size - 53\n",
      "folder - 170.rainbow, validation size - 18, total size - 72\n",
      "folder - 180.screwdriver, validation size - 18, total size - 72\n",
      "folder - 190.snake, validation size - 20, total size - 82\n",
      "folder - 200.stained-glass, validation size - 17, total size - 70\n",
      "folder - 210.syringe, validation size - 20, total size - 81\n",
      "folder - 220.toaster, validation size - 16, total size - 64\n",
      "folder - 230.trilobite-101, validation size - 16, total size - 64\n",
      "folder - 240.watch-101, validation size - 42, total size - 171\n",
      "folder - 250.zebra, validation size - 16, total size - 66\n",
      "CPU times: user 3min 32s, sys: 18.8 s, total: 3min 50s\n",
      "Wall time: 4min 4s\n"
     ]
    }
   ],
   "source": [
    "%%time\n",
    "dir_train_transformed = 'data/keras/train'\n",
    "dir_val_transformed = 'data/keras/validation'\n",
    "\n",
    "dir_train = 'data/train'\n",
    "test_size = 0.25\n",
    "    \n",
    "for ind, folder in enumerate(os.listdir(dir_train)):\n",
    "        subfolder = os.path.join(dir_train, folder)\n",
    "        if os.path.isdir(subfolder):\n",
    "            image_class = folder[:3]\n",
    "            \n",
    "            val_size = int(test_size * len(os.listdir(subfolder)))\n",
    "            val_count = 0\n",
    "            dir_train_to_save = os.path.join(dir_train_transformed, image_class)\n",
    "            dir_val_to_save = os.path.join(dir_val_transformed, image_class)\n",
    "            check_dir(dir_train_to_save)\n",
    "            check_dir(dir_val_to_save)\n",
    "            \n",
    "            if ind % 10 == 0:\n",
    "                print('folder - {}, validation size - {}, total size - {}'.format(folder, val_size, len(os.listdir(subfolder))))\n",
    "            for image_file in os.listdir(subfolder):\n",
    "                if not image_file.startswith('.'):\n",
    "                    name = os.path.join(subfolder, image_file)\n",
    "                    image = misc.imread(name)\n",
    "                    if len(image.shape) == 2:\n",
    "                        image = np.stack((image,)*3)\n",
    "                    image = misc.imresize(image, image_size, interp='bicubic')\n",
    "                    if val_count < val_size:\n",
    "                        fold_to_save = os.path.join(dir_val_to_save, image_file)\n",
    "                        misc.imsave(fold_to_save, image)\n",
    "                        val_count = val_count + 1\n",
    "                    else:\n",
    "                        fold_to_save = os.path.join(dir_train_to_save, image_file)\n",
    "                        misc.imsave(fold_to_save, image)"
   ]
  },
  {
   "cell_type": "markdown",
   "metadata": {},
   "source": [
    "### Transform test data to 32x32 size"
   ]
  },
  {
   "cell_type": "code",
   "execution_count": 165,
   "metadata": {},
   "outputs": [],
   "source": [
    "def save(dir_from, dir_to):\n",
    "    for ind, folder in enumerate(os.listdir(dir_from)):\n",
    "        subfolder = os.path.join(dir_from, folder)\n",
    "        if os.path.isdir(subfolder):\n",
    "            image_class = folder[:3]\n",
    "            dir_train_to_save = os.path.join(dir_to, image_class)\n",
    "            check_dir(dir_train_to_save)\n",
    "            \n",
    "            if ind % 10 == 0:\n",
    "                print('folder - {}'.format(folder))\n",
    "            for image_file in os.listdir(subfolder):\n",
    "                if not image_file.startswith('.'):\n",
    "                    name = os.path.join(subfolder, image_file)\n",
    "                    image = misc.imread(name)\n",
    "                    if len(image.shape) == 2:\n",
    "                        image = np.stack((image,)*3)\n",
    "                    image = misc.imresize(image, image_size, interp='bicubic')\n",
    "                    fold_to_save = os.path.join(dir_train_to_save, image_file)\n",
    "                    misc.imsave(fold_to_save, image)"
   ]
  },
  {
   "cell_type": "code",
   "execution_count": 166,
   "metadata": {
    "scrolled": false
   },
   "outputs": [
    {
     "name": "stdout",
     "output_type": "stream",
     "text": [
      "folder - 010.beer-mug\n",
      "folder - 020.brain-101\n",
      "folder - 030.canoe\n",
      "folder - 040.cockroach\n",
      "folder - 050.covered-wagon\n",
      "folder - 060.duck\n",
      "folder - 070.fire-extinguisher\n",
      "folder - 080.frog\n",
      "folder - 090.gorilla\n",
      "folder - 100.hawksbill-101\n",
      "folder - 110.hourglass\n",
      "folder - 120.joy-stick\n",
      "folder - 130.license-plate\n",
      "folder - 140.menorah-101\n",
      "folder - 150.octopus\n",
      "folder - 160.pez-dispenser\n",
      "folder - 170.rainbow\n",
      "folder - 180.screwdriver\n",
      "folder - 190.snake\n",
      "folder - 200.stained-glass\n",
      "folder - 210.syringe\n",
      "folder - 220.toaster\n",
      "folder - 230.trilobite-101\n",
      "folder - 240.watch-101\n",
      "folder - 250.zebra\n"
     ]
    }
   ],
   "source": [
    "save('data/train', 'data/train_resized')"
   ]
  },
  {
   "cell_type": "code",
   "execution_count": 10,
   "metadata": {
    "scrolled": true
   },
   "outputs": [
    {
     "name": "stdout",
     "output_type": "stream",
     "text": [
      "0\n",
      "600\n",
      "1200\n",
      "1800\n",
      "2400\n",
      "3000\n",
      "3600\n",
      "4200\n",
      "4800\n",
      "5400\n",
      "6000\n",
      "6600\n",
      "7200\n",
      "CPU times: user 1min 18s, sys: 6.9 s, total: 1min 25s\n",
      "Wall time: 1min 37s\n"
     ]
    }
   ],
   "source": [
    "%%time\n",
    "dir_test_transformed = 'data/keras/test/test'\n",
    "dir_test = 'data/test'\n",
    "\n",
    "check_dir(dir_test_transformed)\n",
    "for ind, image_name in enumerate(os.listdir(dir_test)):\n",
    "        if ind % 600 == 0:\n",
    "            print('{}'.format(ind))\n",
    "        if not image_name.startswith('.'):\n",
    "            name = os.path.join(dir_test, image_name)\n",
    "            image = misc.imread(name)\n",
    "            if len(image.shape) == 2:\n",
    "                image = np.stack((image,)*3)\n",
    "            image = misc.imresize(image, image_size, interp='bicubic')\n",
    "            fold_to_save = os.path.join(dir_test_transformed, image_name)\n",
    "            misc.imsave(fold_to_save, image)"
   ]
  },
  {
   "cell_type": "code",
   "execution_count": 183,
   "metadata": {
    "scrolled": true
   },
   "outputs": [
    {
     "name": "stdout",
     "output_type": "stream",
     "text": [
      "707  ######  001\n",
      "708  ######  002\n",
      "654  ######  003\n",
      "678  ######  004\n",
      "657  ######  005\n",
      "715  ######  006\n",
      "699  ######  007\n",
      "573  ######  008\n",
      "703  ######  009\n",
      "711  ######  010\n",
      "527  ######  011\n",
      "589  ######  012\n",
      "707  ######  013\n",
      "719  ######  014\n",
      "683  ######  015\n",
      "714  ######  016\n",
      "701  ######  017\n",
      "704  ######  018\n",
      "681  ######  019\n",
      "folder - 020\n",
      "722  ######  020\n",
      "663  ######  021\n",
      "708  ######  022\n",
      "695  ######  023\n",
      "693  ######  024\n",
      "691  ######  025\n",
      "699  ######  026\n",
      "705  ######  027\n",
      "695  ######  028\n",
      "702  ######  029\n",
      "701  ######  030\n",
      "715  ######  031\n",
      "704  ######  032\n",
      "703  ######  033\n",
      "705  ######  034\n",
      "718  ######  035\n",
      "699  ######  036\n",
      "685  ######  037\n",
      "695  ######  038\n",
      "720  ######  039\n",
      "folder - 040\n",
      "681  ######  040\n",
      "718  ######  041\n",
      "718  ######  042\n",
      "681  ######  043\n",
      "684  ######  044\n",
      "720  ######  045\n",
      "672  ######  046\n",
      "711  ######  047\n",
      "702  ######  048\n",
      "699  ######  049\n",
      "708  ######  050\n",
      "691  ######  051\n",
      "720  ######  052\n",
      "723  ######  053\n",
      "687  ######  054\n",
      "707  ######  055\n",
      "703  ######  056\n",
      "699  ######  057\n",
      "712  ######  058\n",
      "722  ######  059\n",
      "folder - 060\n",
      "718  ######  060\n",
      "703  ######  061\n",
      "722  ######  062\n",
      "683  ######  063\n",
      "674  ######  064\n",
      "704  ######  065\n",
      "722  ######  066\n",
      "722  ######  067\n",
      "695  ######  068\n",
      "706  ######  069\n",
      "721  ######  070\n",
      "706  ######  071\n",
      "687  ######  072\n",
      "705  ######  073\n",
      "690  ######  074\n",
      "722  ######  075\n",
      "721  ######  076\n",
      "713  ######  077\n",
      "715  ######  078\n",
      "706  ######  079\n",
      "folder - 080\n",
      "689  ######  080\n",
      "710  ######  081\n",
      "724  ######  082\n",
      "710  ######  083\n",
      "721  ######  084\n",
      "693  ######  085\n",
      "725  ######  086\n",
      "712  ######  087\n",
      "707  ######  088\n",
      "695  ######  089\n",
      "593  ######  090\n",
      "710  ######  091\n",
      "604  ######  092\n",
      "693  ######  093\n",
      "701  ######  094\n",
      "719  ######  095\n",
      "520  ######  096\n",
      "716  ######  097\n",
      "705  ######  098\n",
      "725  ######  099\n",
      "folder - 100\n",
      "712  ######  100\n",
      "667  ######  101\n",
      "717  ######  102\n",
      "694  ######  103\n",
      "708  ######  104\n",
      "535  ######  105\n",
      "718  ######  106\n",
      "716  ######  107\n",
      "720  ######  108\n",
      "649  ######  109\n",
      "720  ######  110\n",
      "721  ######  111\n",
      "721  ######  112\n",
      "689  ######  113\n",
      "685  ######  114\n",
      "717  ######  115\n",
      "698  ######  116\n",
      "684  ######  117\n",
      "697  ######  118\n",
      "718  ######  119\n",
      "folder - 120\n",
      "675  ######  120\n",
      "723  ######  121\n",
      "702  ######  122\n",
      "694  ######  123\n",
      "714  ######  124\n",
      "704  ######  125\n",
      "563  ######  126\n"
     ]
    },
    {
     "ename": "KeyboardInterrupt",
     "evalue": "",
     "output_type": "error",
     "traceback": [
      "\u001b[0;31m---------------------------------------------------------------------------\u001b[0m",
      "\u001b[0;31mKeyboardInterrupt\u001b[0m                         Traceback (most recent call last)",
      "\u001b[0;32m<ipython-input-183-f7c488bc98d7>\u001b[0m in \u001b[0;36m<module>\u001b[0;34m()\u001b[0m\n\u001b[1;32m     34\u001b[0m \u001b[0;34m\u001b[0m\u001b[0m\n\u001b[1;32m     35\u001b[0m                 for batch in datagen.flow(image, batch_size=1,\n\u001b[0;32m---> 36\u001b[0;31m                       save_to_dir=dir_to_save, save_format='jpeg'):\n\u001b[0m\u001b[1;32m     37\u001b[0m                     \u001b[0mneeded_augmented_images\u001b[0m \u001b[0;34m-=\u001b[0m \u001b[0;36m1\u001b[0m\u001b[0;34m\u001b[0m\u001b[0m\n\u001b[1;32m     38\u001b[0m                     \u001b[0;32mif\u001b[0m \u001b[0mneeded_augmented_images\u001b[0m \u001b[0;34m<\u001b[0m \u001b[0;36m0\u001b[0m\u001b[0;34m:\u001b[0m\u001b[0;34m\u001b[0m\u001b[0m\n",
      "\u001b[0;32m/Library/Frameworks/Python.framework/Versions/3.6/lib/python3.6/site-packages/keras/preprocessing/image.py\u001b[0m in \u001b[0;36m__next__\u001b[0;34m(self, *args, **kwargs)\u001b[0m\n\u001b[1;32m    730\u001b[0m \u001b[0;34m\u001b[0m\u001b[0m\n\u001b[1;32m    731\u001b[0m     \u001b[0;32mdef\u001b[0m \u001b[0m__next__\u001b[0m\u001b[0;34m(\u001b[0m\u001b[0mself\u001b[0m\u001b[0;34m,\u001b[0m \u001b[0;34m*\u001b[0m\u001b[0margs\u001b[0m\u001b[0;34m,\u001b[0m \u001b[0;34m**\u001b[0m\u001b[0mkwargs\u001b[0m\u001b[0;34m)\u001b[0m\u001b[0;34m:\u001b[0m\u001b[0;34m\u001b[0m\u001b[0m\n\u001b[0;32m--> 732\u001b[0;31m         \u001b[0;32mreturn\u001b[0m \u001b[0mself\u001b[0m\u001b[0;34m.\u001b[0m\u001b[0mnext\u001b[0m\u001b[0;34m(\u001b[0m\u001b[0;34m*\u001b[0m\u001b[0margs\u001b[0m\u001b[0;34m,\u001b[0m \u001b[0;34m**\u001b[0m\u001b[0mkwargs\u001b[0m\u001b[0;34m)\u001b[0m\u001b[0;34m\u001b[0m\u001b[0m\n\u001b[0m\u001b[1;32m    733\u001b[0m \u001b[0;34m\u001b[0m\u001b[0m\n\u001b[1;32m    734\u001b[0m \u001b[0;34m\u001b[0m\u001b[0m\n",
      "\u001b[0;32m/Library/Frameworks/Python.framework/Versions/3.6/lib/python3.6/site-packages/keras/preprocessing/image.py\u001b[0m in \u001b[0;36mnext\u001b[0;34m(self)\u001b[0m\n\u001b[1;32m    817\u001b[0m                                                                   \u001b[0mhash\u001b[0m\u001b[0;34m=\u001b[0m\u001b[0mnp\u001b[0m\u001b[0;34m.\u001b[0m\u001b[0mrandom\u001b[0m\u001b[0;34m.\u001b[0m\u001b[0mrandint\u001b[0m\u001b[0;34m(\u001b[0m\u001b[0;36m1e4\u001b[0m\u001b[0;34m)\u001b[0m\u001b[0;34m,\u001b[0m\u001b[0;34m\u001b[0m\u001b[0m\n\u001b[1;32m    818\u001b[0m                                                                   format=self.save_format)\n\u001b[0;32m--> 819\u001b[0;31m                 \u001b[0mimg\u001b[0m\u001b[0;34m.\u001b[0m\u001b[0msave\u001b[0m\u001b[0;34m(\u001b[0m\u001b[0mos\u001b[0m\u001b[0;34m.\u001b[0m\u001b[0mpath\u001b[0m\u001b[0;34m.\u001b[0m\u001b[0mjoin\u001b[0m\u001b[0;34m(\u001b[0m\u001b[0mself\u001b[0m\u001b[0;34m.\u001b[0m\u001b[0msave_to_dir\u001b[0m\u001b[0;34m,\u001b[0m \u001b[0mfname\u001b[0m\u001b[0;34m)\u001b[0m\u001b[0;34m)\u001b[0m\u001b[0;34m\u001b[0m\u001b[0m\n\u001b[0m\u001b[1;32m    820\u001b[0m         \u001b[0;32mif\u001b[0m \u001b[0mself\u001b[0m\u001b[0;34m.\u001b[0m\u001b[0my\u001b[0m \u001b[0;32mis\u001b[0m \u001b[0;32mNone\u001b[0m\u001b[0;34m:\u001b[0m\u001b[0;34m\u001b[0m\u001b[0m\n\u001b[1;32m    821\u001b[0m             \u001b[0;32mreturn\u001b[0m \u001b[0mbatch_x\u001b[0m\u001b[0;34m\u001b[0m\u001b[0m\n",
      "\u001b[0;32m/Library/Frameworks/Python.framework/Versions/3.6/lib/python3.6/site-packages/PIL/Image.py\u001b[0m in \u001b[0;36msave\u001b[0;34m(self, fp, format, **params)\u001b[0m\n\u001b[1;32m   1804\u001b[0m \u001b[0;34m\u001b[0m\u001b[0m\n\u001b[1;32m   1805\u001b[0m         \u001b[0;32mif\u001b[0m \u001b[0;32mnot\u001b[0m \u001b[0mformat\u001b[0m\u001b[0;34m:\u001b[0m\u001b[0;34m\u001b[0m\u001b[0m\n\u001b[0;32m-> 1806\u001b[0;31m             \u001b[0;32mif\u001b[0m \u001b[0mext\u001b[0m \u001b[0;32mnot\u001b[0m \u001b[0;32min\u001b[0m \u001b[0mEXTENSION\u001b[0m\u001b[0;34m:\u001b[0m\u001b[0;34m\u001b[0m\u001b[0m\n\u001b[0m\u001b[1;32m   1807\u001b[0m                 \u001b[0minit\u001b[0m\u001b[0;34m(\u001b[0m\u001b[0;34m)\u001b[0m\u001b[0;34m\u001b[0m\u001b[0m\n\u001b[1;32m   1808\u001b[0m             \u001b[0;32mtry\u001b[0m\u001b[0;34m:\u001b[0m\u001b[0;34m\u001b[0m\u001b[0m\n",
      "\u001b[0;31mKeyboardInterrupt\u001b[0m: "
     ]
    }
   ],
   "source": [
    "dir_train = 'data/train_resized'\n",
    "dir_train_augmented = 'data/train_augmented'\n",
    "samples_threshhold = 775\n",
    "\n",
    "datagen = ImageDataGenerator(\n",
    "        rotation_range=40,\n",
    "        width_shift_range=0.2,\n",
    "        height_shift_range=0.2,\n",
    "        shear_range=0.2,\n",
    "        zoom_range=0.2,\n",
    "        horizontal_flip=True,\n",
    "        fill_mode='nearest')\n",
    "\n",
    "for ind, folder in enumerate(os.listdir(dir_train)):\n",
    "    subfolder = os.path.join(dir_train, folder)\n",
    "    if os.path.isdir(subfolder):            \n",
    "        dir_train_to_save = os.path.join(dir_train_transformed, image_class)\n",
    "        check_dir(dir_train_to_save)\n",
    "\n",
    "        if ind % 20 == 0:\n",
    "            print('folder - {}'.format(folder))\n",
    "        needed_augmented_images = samples_threshhold - len(os.listdir(subfolder))\n",
    "        dir_to_save = os.path.join(dir_train_augmented, folder)\n",
    "        check_dir(dir_to_save)\n",
    "        \n",
    "        print(needed_augmented_images, ' ###### ', folder)\n",
    "        for image_file in os.listdir(subfolder):\n",
    "            if not image_file.startswith('.'):\n",
    "                name = os.path.join(subfolder, image_file)\n",
    "                image = misc.imread(name)\n",
    "                #misc.imsave(dir_to_save, image)\n",
    "                \n",
    "                image = image.reshape((1,) + image.shape)\n",
    "                \n",
    "                for batch in datagen.flow(image, batch_size=1,\n",
    "                      save_to_dir=dir_to_save, save_format='jpeg'):\n",
    "                    needed_augmented_images -= 1\n",
    "                    if needed_augmented_images < 0:\n",
    "                        break"
   ]
  },
  {
   "cell_type": "markdown",
   "metadata": {},
   "source": [
    "### Transform images for keras"
   ]
  },
  {
   "cell_type": "code",
   "execution_count": null,
   "metadata": {
    "collapsed": true,
    "scrolled": true
   },
   "outputs": [],
   "source": [
    "train_df = pd.read_csv('data/data_analys.csv', index_col = 0)"
   ]
  },
  {
   "cell_type": "code",
   "execution_count": null,
   "metadata": {
    "collapsed": true,
    "scrolled": true
   },
   "outputs": [],
   "source": [
    "images = np.zeros((train_df.shape[0], 64, 64, 3), dtype='uint8')\n",
    "targets = np.zeros((train_df.shape[0],), dtype='object')"
   ]
  },
  {
   "cell_type": "code",
   "execution_count": null,
   "metadata": {
    "collapsed": true
   },
   "outputs": [],
   "source": [
    "dir_train = 'data/train_transformed'\n",
    "img_size=(64, 64)\n",
    "\n",
    "i =0\n",
    "for ind, image_name in enumerate(os.listdir(dir_train)):\n",
    "    image_file = os.path.join(dir_train, image_name)\n",
    "    if ind % 2000 == 0:\n",
    "        print('{}'.format(ind))\n",
    "    if not image_file.startswith('.'):\n",
    "        #name = os.path.join(subfolder, image_file)\n",
    "        image = misc.imread(image_file)\n",
    "        if len(image.shape) == 2:\n",
    "            image = np.stack((image,)*3)\n",
    "        images[i] = misc.imresize(image, img_size, interp='bicubic')\n",
    "        targets[i] = int(image_name[:3])\n",
    "        i = i+1"
   ]
  },
  {
   "cell_type": "code",
   "execution_count": null,
   "metadata": {
    "collapsed": true
   },
   "outputs": [],
   "source": [
    "np.save('data/keras/train_images.npy', images)\n",
    "np.save('data/keras/targets.npy', targets)"
   ]
  },
  {
   "cell_type": "code",
   "execution_count": null,
   "metadata": {
    "collapsed": true
   },
   "outputs": [],
   "source": [
    "%%time\n",
    "dir_test_name = 'data/test_transformed'\n",
    "dir_test = os.listdir(dir_test_name)\n",
    "img_size=(64, 64)\n",
    "\n",
    "test_images = np.zeros((len(dir_test), img_size[0], img_size[1], 3), dtype='uint8')\n",
    "\n",
    "i = 0\n",
    "for ind, image_name in enumerate(os.listdir(dir_test_name)):\n",
    "        if ind % 600 == 0:\n",
    "            print('{}'.format(ind))\n",
    "        if not image_name.startswith('.'):\n",
    "            name = os.path.join(dir_test_name, image_name)\n",
    "            image = misc.imread(name)\n",
    "            if len(image.shape) == 2:\n",
    "                image = np.stack((image,)*3)\n",
    "            test_images[i] = misc.imresize(image, img_size, interp='bicubic')\n",
    "            i = i+1"
   ]
  },
  {
   "cell_type": "code",
   "execution_count": null,
   "metadata": {
    "collapsed": true
   },
   "outputs": [],
   "source": [
    "np.save('data/keras/test_images.npy', test_images)"
   ]
  }
 ],
 "metadata": {
  "kernelspec": {
   "display_name": "Python 3",
   "language": "python",
   "name": "python3"
  },
  "language_info": {
   "codemirror_mode": {
    "name": "ipython",
    "version": 3
   },
   "file_extension": ".py",
   "mimetype": "text/x-python",
   "name": "python",
   "nbconvert_exporter": "python",
   "pygments_lexer": "ipython3",
   "version": "3.6.1"
  }
 },
 "nbformat": 4,
 "nbformat_minor": 2
}
