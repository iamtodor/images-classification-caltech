{
 "cells": [
  {
   "cell_type": "code",
   "execution_count": 1,
   "metadata": {
    "collapsed": true
   },
   "outputs": [],
   "source": [
    "import pandas as pd\n",
    "import os\n",
    "from scipy import misc\n",
    "import matplotlib.pyplot as plt\n",
    "import seaborn\n",
    "import numpy as np\n",
    "\n",
    "%matplotlib inline"
   ]
  },
  {
   "cell_type": "code",
   "execution_count": 2,
   "metadata": {
    "scrolled": true
   },
   "outputs": [
    {
     "name": "stdout",
     "output_type": "stream",
     "text": [
      ".DS_Store\n",
      "030.canoe\n",
      "060.duck\n",
      "090.gorilla\n",
      "120.joy-stick\n",
      "150.octopus\n",
      "180.screwdriver\n",
      "210.syringe\n",
      "240.watch-101\n",
      "CPU times: user 5min 25s, sys: 20 s, total: 5min 44s\n",
      "Wall time: 5min 59s\n"
     ]
    }
   ],
   "source": [
    "%%time\n",
    "dir_train = 'data/train'\n",
    "train_df = pd.DataFrame(columns = ['category', 'image_name', 'width', 'height', 'type', 'target'])\n",
    "\n",
    "for ind, folder in enumerate(os.listdir(dir_train)):\n",
    "    if ind % 30 == 0:\n",
    "        print('{}'.format(folder))\n",
    "    folder = os.path.join(dir_train, folder)\n",
    "    if os.path.isdir(folder):\n",
    "        image_files = os.listdir(folder)\n",
    "        for image_file in image_files:\n",
    "            if not image_file.startswith('.'):\n",
    "                image = misc.imread(os.path.join(folder, image_file))\n",
    "                category = folder[15:]\n",
    "                width = image.shape[0]\n",
    "                height = image.shape[1]\n",
    "                target = int(folder.split('.')[0].split('/')[2])\n",
    "                train_df.loc[train_df.shape[0]]=[category, image_file, width, \n",
    "                                                 height, image.dtype, target]"
   ]
  },
  {
   "cell_type": "code",
   "execution_count": 3,
   "metadata": {
    "collapsed": true
   },
   "outputs": [],
   "source": [
    "train_df.to_csv('data/data_analys.csv')"
   ]
  },
  {
   "cell_type": "markdown",
   "metadata": {},
   "source": [
    "### Classes distribution"
   ]
  },
  {
   "cell_type": "code",
   "execution_count": 4,
   "metadata": {
    "scrolled": false
   },
   "outputs": [
    {
     "data": {
      "image/png": "[encoded data removed]",
      "text/plain": [
       "<matplotlib.figure.Figure at 0x109b7c240>"
      ]
     },
     "metadata": {},
     "output_type": "display_data"
    }
   ],
   "source": [
    "plt.figure(figsize=(12, 8))\n",
    "plt.hist(train_df['target'], bins=range(len(train_df['target'].unique())))\n",
    "plt.xlabel('Classes')\n",
    "plt.ylabel('Frequency');"
   ]
  }
 ],
 "metadata": {
  "kernelspec": {
   "display_name": "Python 3",
   "language": "python",
   "name": "python3"
  },
  "language_info": {
   "codemirror_mode": {
    "name": "ipython",
    "version": 3
   },
   "file_extension": ".py",
   "mimetype": "text/x-python",
   "name": "python",
   "nbconvert_exporter": "python",
   "pygments_lexer": "ipython3",
   "version": "3.6.1"
  }
 },
 "nbformat": 4,
 "nbformat_minor": 2
}
