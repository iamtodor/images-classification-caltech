{
 "cells": [
  {
   "cell_type": "markdown",
   "metadata": {},
   "source": [
    "### CNN\n",
    "* http://andrew.gibiansky.com/blog/machine-learning/convolutional-neural-networks/\n",
    "* http://www.wildml.com/2015/11/understanding-convolutional-neural-networks-for-nlp/\n",
    "* https://medium.com/@ageitgey/machine-learning-is-fun-part-3-deep-learning-and-convolutional-neural-networks-f40359318721\n",
    "* https://algotravelling.com/ru/%D0%BC%D0%B0%D1%88%D0%B8%D0%BD%D0%BD%D0%BE%D0%B5-%D0%BE%D0%B1%D1%83%D1%87%D0%B5%D0%BD%D0%B8%D0%B5-%D1%8D%D1%82%D0%BE-%D0%B2%D0%B5%D1%81%D0%B5%D0%BB%D0%BE-3/\n",
    "* https://adeshpande3.github.io/adeshpande3.github.io/A-Beginner's-Guide-To-Understanding-Convolutional-Neural-Networks-Part-2/\n",
    "* https://medium.com/@karpathy/yes-you-should-understand-backprop-e2f06eab496b\n",
    "* https://github.com/udsclub/images-classification-caltech\n",
    "* https://www.asozykin.ru/courses/nnpython"
   ]
  },
  {
   "cell_type": "markdown",
   "metadata": {},
   "source": [
    "### Preprocessing\n",
    "* https://www.embedded-vision.com/sites/default/files/apress/computervisionmetrics/chapter2/9781430259299_Ch02.pdf\n",
    "* https://datascience.stackexchange.com/questions/5224/how-to-prepare-augment-images-for-neural-network\n",
    "* https://www.quora.com/What-are-some-ways-of-pre-procesing-images-before-applying-convolutional-neural-networks-for-the-task-of-image-classification\n",
    "* http://cs231n.github.io/neural-networks-2/#datapre\n",
    "* http://www.robots.ox.ac.uk/~vgg/practicals/cnn/#getting-started\n",
    "* https://www.safaribooksonline.com/library/view/programming-computer-vision/9781449341916/ch01.html\n",
    "* https://stackoverflow.com/a/10169025/5151861\n",
    "* augmentation tf+keras http://machinelearningmastery.com/image-augmentation-deep-learning-keras/"
   ]
  },
  {
   "cell_type": "markdown",
   "metadata": {},
   "source": [
    "#### Augmentation\n",
    "* rotation: random with angle between 0° and 360° (uniform)\n",
    "* translation: random with shift between -10 and 10 pixels (uniform)\n",
    "* rescaling: random with scale factor between 1/1.6 and 1.6 (log-uniform)\n",
    "* flipping: yes or no (bernoulli)\n",
    "* shearing: random with angle between -20° and 20° (uniform)\n",
    "* stretching: random with stretch factor between 1/1.3 and 1.3 (log-uniform)\n",
    "* https://www.tensorflow.org/api_docs/python/tf/image\n",
    "* https://github.com/aleju/imgaug\n",
    "* http://augmentor.readthedocs.io/en/master/\n",
    "* https://github.com/analysiscenter/dataset"
   ]
  },
  {
   "cell_type": "markdown",
   "metadata": {},
   "source": [
    "* uint8 0 to 255\n",
    "* uint16 0 to 65535\n",
    "* uint32 0 to 232\n",
    "* float -1 to 1 or 0 to 1\n",
    "* int8 -128 to 127\n",
    "* int16 -32768 to 32767\n",
    "* int32-231 to 231 - 1"
   ]
  },
  {
   "cell_type": "markdown",
   "metadata": {},
   "source": [
    "* Gaussian blurring of images\n",
    "* Morphology—Counting Objects"
   ]
  },
  {
   "cell_type": "markdown",
   "metadata": {},
   "source": [
    "Ресайзинг - важно\n",
    "* http://ufldl.stanford.edu/wiki/index.php/UFLDL_Tutorial"
   ]
  },
  {
   "cell_type": "markdown",
   "metadata": {},
   "source": [
    "* одну- дву- слойную cnn\n",
    "* графики ошибки\n",
    "* 224х224\n",
    "* 32х32\n",
    "* в керас\n",
    "* серые картинки \n",
    "* тензор борд\n",
    "* презентация по аугментации"
   ]
  },
  {
   "cell_type": "markdown",
   "metadata": {},
   "source": [
    "whitening"
   ]
  },
  {
   "cell_type": "code",
   "execution_count": 407,
   "metadata": {
    "scrolled": true
   },
   "outputs": [],
   "source": [
    "from scipy import ndimage\n",
    "import numpy as np\n",
    "import pandas as pd\n",
    "import os\n",
    "from IPython.display import display, Image\n",
    "from scipy import misc\n",
    "import matplotlib.pyplot as plt\n",
    "from keras.preprocessing.image import ImageDataGenerator\n",
    "import tensorflow\n",
    "from sklearn.model_selection import train_test_split\n",
    "\n",
    "%matplotlib inline"
   ]
  },
  {
   "cell_type": "code",
   "execution_count": 408,
   "metadata": {},
   "outputs": [],
   "source": [
    "pixel_depth = 255.0 # number of levels per pixel\n",
    "num_classes = 257 # number of total classes\n",
    "test_folder = 'data/test' # dir, where test set is placed\n",
    "train_folder = 'data/train' # dir, where train set is placed"
   ]
  },
  {
   "cell_type": "code",
   "execution_count": 409,
   "metadata": {
    "collapsed": true
   },
   "outputs": [],
   "source": [
    "def reshape(img):\n",
    "    nsamples, nx, ny = img.shape\n",
    "    return img.reshape((nsamples,nx*ny))"
   ]
  },
  {
   "cell_type": "code",
   "execution_count": null,
   "metadata": {
    "collapsed": true
   },
   "outputs": [],
   "source": [
    "def load_test_set():\n",
    "    num_images = 0\n",
    "    images = os.listdir(test_folder)\n",
    "    test_set = []\n",
    "    for image in images:\n",
    "        image = os.path.join(test_folder, image)\n",
    "        test_set.append(io.imread(image))\n",
    "    return test_set"
   ]
  },
  {
   "cell_type": "code",
   "execution_count": null,
   "metadata": {
    "scrolled": true
   },
   "outputs": [],
   "source": [
    "test_set = load_test_set()"
   ]
  },
  {
   "cell_type": "code",
   "execution_count": 584,
   "metadata": {
    "scrolled": true
   },
   "outputs": [
    {
     "name": "stdout",
     "output_type": "stream",
     "text": [
      "reading files from 001.ak47...\n",
      "reading files from 002.american-flag...\n",
      "reading files from 003.backpack...\n",
      "reading files from 004.baseball-bat...\n",
      "reading files from 005.baseball-glove...\n",
      "reading files from 006.basketball-hoop...\n",
      "reading files from 007.bat...\n",
      "reading files from 008.bathtub...\n",
      "reading files from 009.bear...\n",
      "reading files from 010.beer-mug...\n",
      "reading files from 011.billiards...\n",
      "reading files from 012.binoculars...\n",
      "reading files from 013.birdbath...\n",
      "reading files from 014.blimp...\n",
      "reading files from 015.bonsai-101...\n",
      "reading files from 016.boom-box...\n",
      "reading files from 017.bowling-ball...\n",
      "reading files from 018.bowling-pin...\n",
      "reading files from 019.boxing-glove...\n",
      "reading files from 020.brain-101...\n",
      "reading files from 021.breadmaker...\n",
      "reading files from 022.buddha-101...\n",
      "reading files from 023.bulldozer...\n",
      "reading files from 024.butterfly...\n",
      "reading files from 025.cactus...\n",
      "reading files from 026.cake...\n",
      "reading files from 027.calculator...\n",
      "reading files from 028.camel...\n",
      "reading files from 029.cannon...\n",
      "reading files from 030.canoe...\n",
      "reading files from 031.car-tire...\n",
      "reading files from 032.cartman...\n",
      "reading files from 033.cd...\n",
      "reading files from 034.centipede...\n",
      "reading files from 035.cereal-box...\n",
      "reading files from 036.chandelier-101...\n",
      "reading files from 037.chess-board...\n",
      "reading files from 038.chimp...\n",
      "reading files from 039.chopsticks...\n",
      "reading files from 040.cockroach...\n",
      "reading files from 041.coffee-mug...\n",
      "reading files from 042.coffin...\n",
      "reading files from 043.coin...\n",
      "reading files from 044.comet...\n",
      "reading files from 045.computer-keyboard...\n",
      "reading files from 046.computer-monitor...\n",
      "reading files from 047.computer-mouse...\n",
      "reading files from 048.conch...\n",
      "reading files from 049.cormorant...\n",
      "reading files from 050.covered-wagon...\n",
      "reading files from 051.cowboy-hat...\n",
      "reading files from 052.crab-101...\n",
      "reading files from 053.desk-globe...\n",
      "reading files from 054.diamond-ring...\n",
      "reading files from 055.dice...\n",
      "reading files from 056.dog...\n",
      "reading files from 057.dolphin-101...\n",
      "reading files from 058.doorknob...\n",
      "reading files from 059.drinking-straw...\n",
      "reading files from 060.duck...\n",
      "reading files from 061.dumb-bell...\n",
      "reading files from 062.eiffel-tower...\n",
      "reading files from 063.electric-guitar-101...\n",
      "reading files from 064.elephant-101...\n",
      "reading files from 065.elk...\n",
      "reading files from 066.ewer-101...\n",
      "reading files from 067.eyeglasses...\n",
      "reading files from 068.fern...\n",
      "reading files from 069.fighter-jet...\n",
      "reading files from 070.fire-extinguisher...\n",
      "reading files from 071.fire-hydrant...\n",
      "reading files from 072.fire-truck...\n",
      "reading files from 073.fireworks...\n",
      "reading files from 074.flashlight...\n",
      "reading files from 075.floppy-disk...\n",
      "reading files from 076.football-helmet...\n",
      "reading files from 077.french-horn...\n",
      "reading files from 078.fried-egg...\n",
      "reading files from 079.frisbee...\n",
      "reading files from 080.frog...\n",
      "reading files from 081.frying-pan...\n",
      "reading files from 082.galaxy...\n",
      "reading files from 083.gas-pump...\n",
      "reading files from 084.giraffe...\n",
      "reading files from 085.goat...\n",
      "reading files from 086.golden-gate-bridge...\n",
      "reading files from 087.goldfish...\n",
      "reading files from 088.golf-ball...\n",
      "reading files from 089.goose...\n",
      "reading files from 090.gorilla...\n",
      "reading files from 091.grand-piano-101...\n",
      "reading files from 092.grapes...\n",
      "reading files from 093.grasshopper...\n",
      "reading files from 094.guitar-pick...\n",
      "reading files from 095.hamburger...\n",
      "reading files from 096.hammock...\n",
      "reading files from 097.harmonica...\n",
      "reading files from 098.harp...\n",
      "reading files from 099.harpsichord...\n",
      "reading files from 100.hawksbill-101...\n",
      "reading files from 101.head-phones...\n",
      "reading files from 102.helicopter-101...\n",
      "reading files from 103.hibiscus...\n",
      "reading files from 104.homer-simpson...\n",
      "reading files from 105.horse...\n",
      "reading files from 106.horseshoe-crab...\n",
      "reading files from 107.hot-air-balloon...\n",
      "reading files from 108.hot-dog...\n",
      "reading files from 109.hot-tub...\n",
      "reading files from 110.hourglass...\n",
      "reading files from 111.house-fly...\n",
      "reading files from 112.human-skeleton...\n",
      "reading files from 113.hummingbird...\n",
      "reading files from 114.ibis-101...\n",
      "reading files from 115.ice-cream-cone...\n",
      "reading files from 116.iguana...\n",
      "reading files from 117.ipod...\n",
      "reading files from 118.iris...\n",
      "reading files from 119.jesus-christ...\n",
      "reading files from 120.joy-stick...\n",
      "reading files from 121.kangaroo-101...\n",
      "reading files from 122.kayak...\n",
      "reading files from 123.ketch-101...\n",
      "reading files from 124.killer-whale...\n",
      "reading files from 125.knife...\n",
      "reading files from 126.ladder...\n",
      "reading files from 127.laptop-101...\n",
      "reading files from 128.lathe...\n",
      "reading files from 129.leopards-101...\n",
      "reading files from 130.license-plate...\n",
      "reading files from 131.lightbulb...\n",
      "reading files from 132.light-house...\n",
      "reading files from 133.lightning...\n",
      "reading files from 134.llama-101...\n",
      "reading files from 135.mailbox...\n",
      "reading files from 136.mandolin...\n",
      "reading files from 137.mars...\n",
      "reading files from 138.mattress...\n",
      "reading files from 139.megaphone...\n",
      "reading files from 140.menorah-101...\n",
      "reading files from 141.microscope...\n",
      "reading files from 142.microwave...\n",
      "reading files from 143.minaret...\n",
      "reading files from 144.minotaur...\n",
      "reading files from 145.motorbikes-101...\n",
      "reading files from 146.mountain-bike...\n",
      "reading files from 147.mushroom...\n",
      "reading files from 148.mussels...\n",
      "reading files from 149.necktie...\n",
      "reading files from 150.octopus...\n",
      "reading files from 151.ostrich...\n",
      "reading files from 152.owl...\n",
      "reading files from 153.palm-pilot...\n",
      "reading files from 154.palm-tree...\n",
      "reading files from 155.paperclip...\n",
      "reading files from 156.paper-shredder...\n",
      "reading files from 157.pci-card...\n",
      "reading files from 158.penguin...\n",
      "reading files from 159.people...\n",
      "reading files from 160.pez-dispenser...\n",
      "reading files from 161.photocopier...\n",
      "reading files from 162.picnic-table...\n",
      "reading files from 163.playing-card...\n",
      "reading files from 164.porcupine...\n",
      "reading files from 165.pram...\n",
      "reading files from 166.praying-mantis...\n",
      "reading files from 167.pyramid...\n",
      "reading files from 168.raccoon...\n",
      "reading files from 169.radio-telescope...\n",
      "reading files from 170.rainbow...\n",
      "reading files from 171.refrigerator...\n",
      "reading files from 172.revolver-101...\n",
      "reading files from 173.rifle...\n",
      "reading files from 174.rotary-phone...\n",
      "reading files from 175.roulette-wheel...\n",
      "reading files from 176.saddle...\n",
      "reading files from 177.saturn...\n",
      "reading files from 178.school-bus...\n",
      "reading files from 179.scorpion-101...\n",
      "reading files from 180.screwdriver...\n",
      "reading files from 181.segway...\n",
      "reading files from 182.self-propelled-lawn-mower...\n",
      "reading files from 183.sextant...\n",
      "reading files from 184.sheet-music...\n",
      "reading files from 185.skateboard...\n",
      "reading files from 186.skunk...\n",
      "reading files from 187.skyscraper...\n",
      "reading files from 188.smokestack...\n",
      "reading files from 189.snail...\n",
      "reading files from 190.snake...\n",
      "reading files from 191.sneaker...\n",
      "reading files from 192.snowmobile...\n",
      "reading files from 193.soccer-ball...\n",
      "reading files from 194.socks...\n",
      "reading files from 195.soda-can...\n",
      "reading files from 196.spaghetti...\n",
      "reading files from 197.speed-boat...\n",
      "reading files from 198.spider...\n",
      "reading files from 199.spoon...\n",
      "reading files from 200.stained-glass...\n",
      "reading files from 201.starfish-101...\n",
      "reading files from 202.steering-wheel...\n",
      "reading files from 203.stirrups...\n",
      "reading files from 204.sunflower-101...\n",
      "reading files from 205.superman...\n",
      "reading files from 206.sushi...\n",
      "reading files from 207.swan...\n",
      "reading files from 208.swiss-army-knife...\n",
      "reading files from 209.sword...\n",
      "reading files from 210.syringe...\n",
      "reading files from 211.tambourine...\n",
      "reading files from 212.teapot...\n",
      "reading files from 213.teddy-bear...\n",
      "reading files from 214.teepee...\n",
      "reading files from 215.telephone-box...\n",
      "reading files from 216.tennis-ball...\n",
      "reading files from 217.tennis-court...\n",
      "reading files from 218.tennis-racket...\n",
      "reading files from 219.theodolite...\n",
      "reading files from 220.toaster...\n",
      "reading files from 221.tomato...\n",
      "reading files from 222.tombstone...\n",
      "reading files from 223.top-hat...\n",
      "reading files from 224.touring-bike...\n",
      "reading files from 225.tower-pisa...\n",
      "reading files from 226.traffic-light...\n",
      "reading files from 227.treadmill...\n"
     ]
    },
    {
     "name": "stdout",
     "output_type": "stream",
     "text": [
      "reading files from 228.triceratops...\n",
      "reading files from 229.tricycle...\n",
      "reading files from 230.trilobite-101...\n",
      "reading files from 231.tripod...\n",
      "reading files from 232.t-shirt...\n",
      "reading files from 233.tuning-fork...\n",
      "reading files from 234.tweezer...\n",
      "reading files from 235.umbrella-101...\n",
      "reading files from 236.unicorn...\n",
      "reading files from 237.vcr...\n",
      "reading files from 238.video-projector...\n",
      "reading files from 239.washing-machine...\n",
      "reading files from 240.watch-101...\n",
      "reading files from 241.waterfall...\n",
      "reading files from 242.watermelon...\n",
      "reading files from 243.welding-mask...\n",
      "reading files from 244.wheelbarrow...\n",
      "reading files from 245.windmill...\n",
      "reading files from 246.wine-bottle...\n",
      "reading files from 247.xylophone...\n",
      "reading files from 248.yarmulke...\n",
      "reading files from 249.yo-yo...\n",
      "reading files from 250.zebra...\n",
      "reading files from 251.airplanes-101...\n",
      "reading files from 252.car-side-101...\n",
      "reading files from 253.faces-easy-101...\n",
      "reading files from 254.greyhound...\n",
      "reading files from 255.tennis-shoes...\n",
      "reading files from 256.toad...\n",
      "reading files from 257.clutter...\n"
     ]
    }
   ],
   "source": [
    "# data folder paths\n",
    "dir_train = os.path.join('data', 'train')\n",
    "dir_test = os.path.join('data', 'test')\n",
    "\n",
    "# collect train metadata\n",
    "train_metadata = []\n",
    "\n",
    "for root, subFolders, files in os.walk(dir_train):\n",
    "    for sf in subFolders:\n",
    "        print('reading files from {}...'.format(sf))\n",
    "        for f_name in os.listdir(os.path.join(dir_train, sf)):\n",
    "            if not f_name.startswith('.'):\n",
    "                temp = misc.imread(os.path.join(dir_train, sf, f_name)) # read image\n",
    "                # collect image metadata\n",
    "                image_metadata = []\n",
    "                image_metadata.extend([sf, f_name])\n",
    "                image_metadata.extend( list(temp.shape) if len(temp.shape) == 3\\\n",
    "                                      else [temp.shape[0], temp.shape[1], 1])\n",
    "                image_metadata.extend([temp.nbytes, temp.dtype])\n",
    "                # append image metadata to list\n",
    "                train_metadata.append(image_metadata)"
   ]
  },
  {
   "cell_type": "code",
   "execution_count": 597,
   "metadata": {},
   "outputs": [
    {
     "data": {
      "text/plain": [
       "22897"
      ]
     },
     "execution_count": 597,
     "metadata": {},
     "output_type": "execute_result"
    }
   ],
   "source": [
    "len(train_metadata)"
   ]
  },
  {
   "cell_type": "code",
   "execution_count": 601,
   "metadata": {
    "scrolled": false
   },
   "outputs": [
    {
     "name": "stdout",
     "output_type": "stream",
     "text": [
      ".DS_Store\n",
      "030.canoe\n",
      "060.duck\n",
      "090.gorilla\n",
      "120.joy-stick\n",
      "150.octopus\n",
      "180.screwdriver\n",
      "210.syringe\n",
      "240.watch-101\n",
      "CPU times: user 5min 54s, sys: 28.4 s, total: 6min 23s\n",
      "Wall time: 6min 54s\n"
     ]
    }
   ],
   "source": [
    "%%time\n",
    "dir_train = 'data/train'\n",
    "train_df = pd.DataFrame(columns = ['category', 'image_name', 'width', 'height', 'type', 'target'])\n",
    "folders = os.listdir(dir_train)\n",
    "for ind, folder in enumerate(folders):\n",
    "    if ind % 30 == 0:\n",
    "        print('{}'.format(folder))\n",
    "    folder = os.path.join(train_folder, folder)\n",
    "    if os.path.isdir(folder):\n",
    "        image_files = os.listdir(folder)\n",
    "        for image_file in image_files:\n",
    "            if not image_file.startswith('.'):\n",
    "                image = misc.imread(os.path.join(folder, image_file))\n",
    "                category = folder[15:]\n",
    "                width = image.shape[0]\n",
    "                height = image.shape[1]\n",
    "                #target = folder.split('.')[0].split('/')[2]\n",
    "                target = int(folder.split('.')[0].split('/')[2])\n",
    "                train_df.loc[train_df.shape[0]]=[category, image_file, width, \n",
    "                                                 height, image.dtype, target]"
   ]
  },
  {
   "cell_type": "code",
   "execution_count": 603,
   "metadata": {
    "collapsed": true
   },
   "outputs": [],
   "source": [
    "train_df.to_csv('data/train_df.csv')"
   ]
  },
  {
   "cell_type": "markdown",
   "metadata": {},
   "source": [
    "### Classes distribution"
   ]
  },
  {
   "cell_type": "code",
   "execution_count": 604,
   "metadata": {
    "scrolled": false
   },
   "outputs": [
    {
     "data": {
      "image/png": "[encoded data removed]",
      "text/plain": [
       "<matplotlib.figure.Figure at 0x3fc28b780>"
      ]
     },
     "metadata": {},
     "output_type": "display_data"
    }
   ],
   "source": [
    "plt.figure(figsize=(12, 8))\n",
    "plt.hist(train_df['target'], bins=range(len(train_df['target'].unique())))\n",
    "plt.xlabel('Classes')\n",
    "plt.ylabel('Frequency');"
   ]
  },
  {
   "cell_type": "code",
   "execution_count": 607,
   "metadata": {},
   "outputs": [],
   "source": [
    "df = pd.read_csv('data/train_df.csv', index_col=0)"
   ]
  },
  {
   "cell_type": "code",
   "execution_count": 609,
   "metadata": {
    "scrolled": true
   },
   "outputs": [],
   "source": [
    "y = df['target']\n",
    "X = df.copy()\n",
    "X.drop('target', axis=1, inplace=True)\n",
    "df.to_csv('train_data')"
   ]
  },
  {
   "cell_type": "code",
   "execution_count": 281,
   "metadata": {},
   "outputs": [],
   "source": [
    "X.to_csv('data/train_features')\n",
    "y.to_csv('data/train_target')"
   ]
  },
  {
   "cell_type": "code",
   "execution_count": 612,
   "metadata": {
    "collapsed": true
   },
   "outputs": [],
   "source": [
    "def check_dir(directory):\n",
    "    if not os.path.exists(directory):\n",
    "        create_dir(directory)"
   ]
  },
  {
   "cell_type": "code",
   "execution_count": 613,
   "metadata": {},
   "outputs": [],
   "source": [
    "def create_dir(directory):\n",
    "    os.makedirs(directory)"
   ]
  },
  {
   "cell_type": "code",
   "execution_count": 614,
   "metadata": {
    "collapsed": true
   },
   "outputs": [],
   "source": [
    "def norm(img):\n",
    "    return img / 255.0"
   ]
  },
  {
   "cell_type": "code",
   "execution_count": 615,
   "metadata": {
    "collapsed": true
   },
   "outputs": [],
   "source": [
    "dir_train_transformed = 'data/train_transformed'\n",
    "def transform_train_set(img_size=(32, 32)):\n",
    "    check_dir(transform_folder)\n",
    "    folders = os.listdir(train_folder)\n",
    "    for ind, folder in enumerate(folders):\n",
    "            subfolder = os.path.join(train_folder, folder)\n",
    "            if os.path.isdir(subfolder):\n",
    "                if ind % 30 == 0:\n",
    "                    print('{}'.format(folder))\n",
    "                for image_file in os.listdir(subfolder):\n",
    "                    if not image_file.startswith('.'):\n",
    "                        name = os.path.join(subfolder, image_file)\n",
    "                        image = misc.imread(name)\n",
    "                        if len(image.shape) == 2:\n",
    "                            image = np.stack((image,)*3)\n",
    "                        image = misc.imresize(image, img_size, interp='bicubic')\n",
    "                        #image = norm(image)\n",
    "                        fold_to_save = os.path.join(transform_folder, image_file)\n",
    "                        misc.imsave(fold_to_save, image)"
   ]
  },
  {
   "cell_type": "code",
   "execution_count": 616,
   "metadata": {
    "scrolled": true
   },
   "outputs": [
    {
     "name": "stdout",
     "output_type": "stream",
     "text": [
      "030.canoe\n",
      "060.duck\n",
      "090.gorilla\n",
      "120.joy-stick\n",
      "150.octopus\n",
      "180.screwdriver\n",
      "210.syringe\n",
      "240.watch-101\n",
      "CPU times: user 3min 47s, sys: 21.4 s, total: 4min 8s\n",
      "Wall time: 4min 28s\n"
     ]
    }
   ],
   "source": [
    "%%time\n",
    "img_size = (64,64)\n",
    "transform_train_set(img_size)"
   ]
  },
  {
   "cell_type": "code",
   "execution_count": 624,
   "metadata": {},
   "outputs": [
    {
     "name": "stdout",
     "output_type": "stream",
     "text": [
      "     0/ 22897 images loaded\n",
      "  5000/ 22897 images loaded\n",
      " 10000/ 22897 images loaded\n",
      " 15000/ 22897 images loaded\n",
      " 20000/ 22897 images loaded\n",
      "CPU times: user 1min 16s, sys: 3.41 s, total: 1min 19s\n",
      "Wall time: 1min 22s\n"
     ]
    }
   ],
   "source": [
    "%%time\n",
    "# load data in flattened form\n",
    "\n",
    "# img parameters\n",
    "img_shape = (64, 64)\n",
    "channels = 3\n",
    "img_shape_flattened = img_shape[0] * img_shape[1] * channels\n",
    "img_qty = len(train_metadata)\n",
    "\n",
    "# initialize X,y\n",
    "X = np.empty(shape=(img_qty, img_shape_flattened), dtype=np.int8)\n",
    "y = np.empty(shape=(img_qty,), dtype=np.uint16)\n",
    "\n",
    "# read images\n",
    "for i,f_name in enumerate(os.listdir(dir_train_transformed)):\n",
    "    if i % 5000 == 0:\n",
    "        print('{:6d}/{:6d} images loaded'.format(i, img_qty))\n",
    "    \n",
    "    img_path = os.path.join(dir_train_transformed, f_name)\n",
    "    X[i, :] = misc.imread(img_path).flatten('C') # since img is np.ndarray, flatten in row-style\n",
    "    y[i] = train_df.loc[train_df['image_name'] == f_name, 'target'].iloc[0]"
   ]
  },
  {
   "cell_type": "code",
   "execution_count": 628,
   "metadata": {
    "scrolled": true
   },
   "outputs": [],
   "source": [
    "X_train, X_test, y_train, t_test = train_test_split(X, y, test_size = 0.3, stratify=y)"
   ]
  },
  {
   "cell_type": "code",
   "execution_count": 629,
   "metadata": {
    "collapsed": true
   },
   "outputs": [],
   "source": [
    "from sklearn.linear_model import LogisticRegression  # baseline classifier\n",
    "from sklearn.decomposition import PCA # to reduce training columns\n",
    "from sklearn.pipeline import Pipeline # to \"glue\" model steps/components together\n",
    "from sklearn.metrics import accuracy_score # to test quality of the classifier"
   ]
  },
  {
   "cell_type": "code",
   "execution_count": 515,
   "metadata": {},
   "outputs": [],
   "source": [
    "pca = PCA(n_components=50, random_state=42)\n",
    "svc = LogisticRegression(random_state=42, C=0.1, max_iter=50, verbose=2, n_jobs=-1, class_weight='balanced')"
   ]
  },
  {
   "cell_type": "code",
   "execution_count": 630,
   "metadata": {},
   "outputs": [
    {
     "data": {
      "image/png": "[encoded data removed]",
      "text/plain": [
       "<matplotlib.figure.Figure at 0x414c3ebe0>"
      ]
     },
     "metadata": {},
     "output_type": "display_data"
    }
   ],
   "source": [
    "pca = PCA().fit(X)\n",
    "\n",
    "plt.figure(figsize=(10,7))\n",
    "plt.plot(np.cumsum(pca.explained_variance_ratio_), color='k', lw=2)\n",
    "plt.xlabel('Number of components')\n",
    "plt.ylabel('Total explained variance')\n",
    "plt.xlim(0, 63)\n",
    "plt.yticks(np.arange(0, 1.1, 0.1))\n",
    "plt.axvline(21, c='b')\n",
    "plt.axhline(0.9, c='r')\n",
    "plt.show();"
   ]
  }
 ],
 "metadata": {
  "kernelspec": {
   "display_name": "Python 3",
   "language": "python",
   "name": "python3"
  },
  "language_info": {
   "codemirror_mode": {
    "name": "ipython",
    "version": 3
   },
   "file_extension": ".py",
   "mimetype": "text/x-python",
   "name": "python",
   "nbconvert_exporter": "python",
   "pygments_lexer": "ipython3",
   "version": "3.6.1"
  }
 },
 "nbformat": 4,
 "nbformat_minor": 2
}
