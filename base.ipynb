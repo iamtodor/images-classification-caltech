{
 "cells": [
  {
   "cell_type": "markdown",
   "metadata": {},
   "source": [
    "### CNN\n",
    "* http://andrew.gibiansky.com/blog/machine-learning/convolutional-neural-networks/\n",
    "* http://www.wildml.com/2015/11/understanding-convolutional-neural-networks-for-nlp/\n",
    "* https://medium.com/@ageitgey/machine-learning-is-fun-part-3-deep-learning-and-convolutional-neural-networks-f40359318721\n",
    "* https://algotravelling.com/ru/%D0%BC%D0%B0%D1%88%D0%B8%D0%BD%D0%BD%D0%BE%D0%B5-%D0%BE%D0%B1%D1%83%D1%87%D0%B5%D0%BD%D0%B8%D0%B5-%D1%8D%D1%82%D0%BE-%D0%B2%D0%B5%D1%81%D0%B5%D0%BB%D0%BE-3/\n",
    "* https://adeshpande3.github.io/adeshpande3.github.io/A-Beginner's-Guide-To-Understanding-Convolutional-Neural-Networks-Part-2/\n",
    "* https://medium.com/@karpathy/yes-you-should-understand-backprop-e2f06eab496b\n",
    "* https://github.com/udsclub/images-classification-caltech\n",
    "* https://www.asozykin.ru/courses/nnpython"
   ]
  },
  {
   "cell_type": "markdown",
   "metadata": {},
   "source": [
    "### Preprocessing\n",
    "* https://www.embedded-vision.com/sites/default/files/apress/computervisionmetrics/chapter2/9781430259299_Ch02.pdf\n",
    "* https://datascience.stackexchange.com/questions/5224/how-to-prepare-augment-images-for-neural-network\n",
    "* https://www.quora.com/What-are-some-ways-of-pre-procesing-images-before-applying-convolutional-neural-networks-for-the-task-of-image-classification\n",
    "* http://cs231n.github.io/neural-networks-2/#datapre\n",
    "* http://www.robots.ox.ac.uk/~vgg/practicals/cnn/#getting-started\n",
    "* https://www.safaribooksonline.com/library/view/programming-computer-vision/9781449341916/ch01.html\n",
    "* https://stackoverflow.com/a/10169025/5151861\n",
    "* augmentation tf+keras http://machinelearningmastery.com/image-augmentation-deep-learning-keras/"
   ]
  },
  {
   "cell_type": "markdown",
   "metadata": {},
   "source": [
    "#### Augmentation\n",
    "* rotation: random with angle between 0° and 360° (uniform)\n",
    "* translation: random with shift between -10 and 10 pixels (uniform)\n",
    "* rescaling: random with scale factor between 1/1.6 and 1.6 (log-uniform)\n",
    "* flipping: yes or no (bernoulli)\n",
    "* shearing: random with angle between -20° and 20° (uniform)\n",
    "* stretching: random with stretch factor between 1/1.3 and 1.3 (log-uniform)"
   ]
  },
  {
   "cell_type": "markdown",
   "metadata": {},
   "source": [
    "* Gaussian blurring of images\n",
    "* Morphology—Counting Objects"
   ]
  },
  {
   "cell_type": "markdown",
   "metadata": {},
   "source": [
    "Ресайзинг - важно\n",
    "* http://ufldl.stanford.edu/wiki/index.php/UFLDL_Tutorial"
   ]
  },
  {
   "cell_type": "markdown",
   "metadata": {},
   "source": [
    "* одну- дву- слойную cnn\n",
    "* графики ошибки\n",
    "* 224х224\n",
    "* 32х32\n",
    "* в керас\n",
    "* серые картинки \n",
    "* тензор борд\n",
    "* презентация по аугментации"
   ]
  },
  {
   "cell_type": "markdown",
   "metadata": {},
   "source": [
    "whitening"
   ]
  },
  {
   "cell_type": "code",
   "execution_count": 1,
   "metadata": {
    "scrolled": true
   },
   "outputs": [
    {
     "name": "stderr",
     "output_type": "stream",
     "text": [
      "Using TensorFlow backend.\n"
     ]
    }
   ],
   "source": [
    "from scipy import ndimage\n",
    "import numpy as np\n",
    "import pandas as pd\n",
    "import os\n",
    "from IPython.display import display, Image\n",
    "import scipy\n",
    "import matplotlib.pyplot as plt\n",
    "from skimage import io, transform\n",
    "import skimage\n",
    "from keras.preprocessing.image import ImageDataGenerator\n",
    "import tensorflow\n",
    "\n",
    "%matplotlib inline"
   ]
  },
  {
   "cell_type": "code",
   "execution_count": 39,
   "metadata": {},
   "outputs": [],
   "source": [
    "pixel_depth = 255.0 # number of levels per pixel\n",
    "num_classes = 257 # number of total classes\n",
    "test_folder = 'data/test' # dir, where test set is placed\n",
    "train_folder = 'data/train' # dir, where train set is placed\n",
    "IMAGE_WIDTH = 100\n",
    "IMAGE_HEIGHT = 100"
   ]
  },
  {
   "cell_type": "code",
   "execution_count": 3,
   "metadata": {
    "collapsed": true
   },
   "outputs": [],
   "source": [
    "def reshape(img):\n",
    "    nsamples, nx, ny = img.shape\n",
    "    return img.reshape((nsamples,nx*ny))"
   ]
  },
  {
   "cell_type": "code",
   "execution_count": 4,
   "metadata": {
    "collapsed": true
   },
   "outputs": [],
   "source": [
    "def norm(img):\n",
    "    img -= np.mean(img, axis = 0)\n",
    "    img /= np.std(img, axis = 0)\n",
    "    return img"
   ]
  },
  {
   "cell_type": "code",
   "execution_count": 111,
   "metadata": {
    "collapsed": true
   },
   "outputs": [],
   "source": [
    "def resize(img):\n",
    "    shape = (IMAGE_WIDTH, IMAGE_HEIGHT)\n",
    "    size = skimage.transform.resize(img, shape)"
   ]
  },
  {
   "cell_type": "code",
   "execution_count": 241,
   "metadata": {
    "scrolled": true
   },
   "outputs": [],
   "source": [
    "def load_train_set(df):\n",
    "    folders = os.listdir(train_folder)\n",
    "    for ind, folder in enumerate(folders):\n",
    "        #if ind % 60 == 0:\n",
    "            folder = os.path.join(train_folder, folder)\n",
    "            print('{}'.format(folder))\n",
    "            if os.path.isdir(folder):\n",
    "                image_files = os.listdir(folder)\n",
    "                for image_file in image_files:\n",
    "                    if not image_file.startswith('.'):\n",
    "                        image = io.imread(os.path.join(folder, image_file))\n",
    "                        #image = resize(image)\n",
    "                        #image = norm(image)\n",
    "                        #target = folder.split('.')[0].split('/')[2]\n",
    "                        target = int(folder.split('.')[0].split('/')[2])\n",
    "                        df.loc[df.shape[0]]=[folder[15:], image_file, image.shape[0], image.shape[1], image.dtype, target]"
   ]
  },
  {
   "cell_type": "code",
   "execution_count": 234,
   "metadata": {
    "scrolled": true
   },
   "outputs": [],
   "source": [
    "df = pd.DataFrame(columns = ['category', 'image_name', 'width', 'height', 'type', 'target'])"
   ]
  },
  {
   "cell_type": "code",
   "execution_count": 235,
   "metadata": {
    "scrolled": true
   },
   "outputs": [
    {
     "name": "stdout",
     "output_type": "stream",
     "text": [
      "data/train/.DS_Store\n",
      "data/train/001.ak47\n",
      "data/train/002.american-flag\n",
      "data/train/003.backpack\n",
      "data/train/004.baseball-bat\n",
      "data/train/005.baseball-glove\n",
      "data/train/006.basketball-hoop\n",
      "data/train/007.bat\n",
      "data/train/008.bathtub\n",
      "data/train/009.bear\n",
      "data/train/010.beer-mug\n",
      "data/train/011.billiards\n",
      "data/train/012.binoculars\n",
      "data/train/013.birdbath\n",
      "data/train/014.blimp\n",
      "data/train/015.bonsai-101\n",
      "data/train/016.boom-box\n",
      "data/train/017.bowling-ball\n",
      "data/train/018.bowling-pin\n",
      "data/train/019.boxing-glove\n",
      "data/train/020.brain-101\n",
      "data/train/021.breadmaker\n",
      "data/train/022.buddha-101\n",
      "data/train/023.bulldozer\n",
      "data/train/024.butterfly\n",
      "data/train/025.cactus\n",
      "data/train/026.cake\n",
      "data/train/027.calculator\n",
      "data/train/028.camel\n",
      "data/train/029.cannon\n",
      "data/train/030.canoe\n",
      "data/train/031.car-tire\n",
      "data/train/032.cartman\n",
      "data/train/033.cd\n",
      "data/train/034.centipede\n",
      "data/train/035.cereal-box\n",
      "data/train/036.chandelier-101\n",
      "data/train/037.chess-board\n",
      "data/train/038.chimp\n",
      "data/train/039.chopsticks\n",
      "data/train/040.cockroach\n",
      "data/train/041.coffee-mug\n",
      "data/train/042.coffin\n",
      "data/train/043.coin\n",
      "data/train/044.comet\n",
      "data/train/045.computer-keyboard\n",
      "data/train/046.computer-monitor\n",
      "data/train/047.computer-mouse\n",
      "data/train/048.conch\n",
      "data/train/049.cormorant\n",
      "data/train/050.covered-wagon\n",
      "data/train/051.cowboy-hat\n",
      "data/train/052.crab-101\n",
      "data/train/053.desk-globe\n",
      "data/train/054.diamond-ring\n",
      "data/train/055.dice\n",
      "data/train/056.dog\n",
      "data/train/057.dolphin-101\n",
      "data/train/058.doorknob\n",
      "data/train/059.drinking-straw\n",
      "data/train/060.duck\n",
      "data/train/061.dumb-bell\n",
      "data/train/062.eiffel-tower\n",
      "data/train/063.electric-guitar-101\n",
      "data/train/064.elephant-101\n",
      "data/train/065.elk\n",
      "data/train/066.ewer-101\n",
      "data/train/067.eyeglasses\n",
      "data/train/068.fern\n",
      "data/train/069.fighter-jet\n",
      "data/train/070.fire-extinguisher\n",
      "data/train/071.fire-hydrant\n",
      "data/train/072.fire-truck\n",
      "data/train/073.fireworks\n",
      "data/train/074.flashlight\n",
      "data/train/075.floppy-disk\n",
      "data/train/076.football-helmet\n",
      "data/train/077.french-horn\n",
      "data/train/078.fried-egg\n",
      "data/train/079.frisbee\n",
      "data/train/080.frog\n",
      "data/train/081.frying-pan\n",
      "data/train/082.galaxy\n",
      "data/train/083.gas-pump\n",
      "data/train/084.giraffe\n",
      "data/train/085.goat\n",
      "data/train/086.golden-gate-bridge\n",
      "data/train/087.goldfish\n",
      "data/train/088.golf-ball\n",
      "data/train/089.goose\n",
      "data/train/090.gorilla\n",
      "data/train/091.grand-piano-101\n",
      "data/train/092.grapes\n",
      "data/train/093.grasshopper\n",
      "data/train/094.guitar-pick\n",
      "data/train/095.hamburger\n",
      "data/train/096.hammock\n",
      "data/train/097.harmonica\n",
      "data/train/098.harp\n",
      "data/train/099.harpsichord\n",
      "data/train/100.hawksbill-101\n",
      "data/train/101.head-phones\n",
      "data/train/102.helicopter-101\n",
      "data/train/103.hibiscus\n",
      "data/train/104.homer-simpson\n",
      "data/train/105.horse\n",
      "data/train/106.horseshoe-crab\n",
      "data/train/107.hot-air-balloon\n",
      "data/train/108.hot-dog\n",
      "data/train/109.hot-tub\n",
      "data/train/110.hourglass\n",
      "data/train/111.house-fly\n",
      "data/train/112.human-skeleton\n",
      "data/train/113.hummingbird\n",
      "data/train/114.ibis-101\n",
      "data/train/115.ice-cream-cone\n",
      "data/train/116.iguana\n",
      "data/train/117.ipod\n",
      "data/train/118.iris\n",
      "data/train/119.jesus-christ\n",
      "data/train/120.joy-stick\n",
      "data/train/121.kangaroo-101\n",
      "data/train/122.kayak\n",
      "data/train/123.ketch-101\n",
      "data/train/124.killer-whale\n",
      "data/train/125.knife\n",
      "data/train/126.ladder\n",
      "data/train/127.laptop-101\n",
      "data/train/128.lathe\n",
      "data/train/129.leopards-101\n",
      "data/train/130.license-plate\n",
      "data/train/131.lightbulb\n",
      "data/train/132.light-house\n",
      "data/train/133.lightning\n",
      "data/train/134.llama-101\n",
      "data/train/135.mailbox\n",
      "data/train/136.mandolin\n",
      "data/train/137.mars\n",
      "data/train/138.mattress\n",
      "data/train/139.megaphone\n",
      "data/train/140.menorah-101\n",
      "data/train/141.microscope\n",
      "data/train/142.microwave\n",
      "data/train/143.minaret\n",
      "data/train/144.minotaur\n",
      "data/train/145.motorbikes-101\n",
      "data/train/146.mountain-bike\n",
      "data/train/147.mushroom\n",
      "data/train/148.mussels\n",
      "data/train/149.necktie\n",
      "data/train/150.octopus\n",
      "data/train/151.ostrich\n",
      "data/train/152.owl\n",
      "data/train/153.palm-pilot\n",
      "data/train/154.palm-tree\n",
      "data/train/155.paperclip\n",
      "data/train/156.paper-shredder\n",
      "data/train/157.pci-card\n",
      "data/train/158.penguin\n",
      "data/train/159.people\n",
      "data/train/160.pez-dispenser\n",
      "data/train/161.photocopier\n",
      "data/train/162.picnic-table\n",
      "data/train/163.playing-card\n",
      "data/train/164.porcupine\n",
      "data/train/165.pram\n",
      "data/train/166.praying-mantis\n",
      "data/train/167.pyramid\n",
      "data/train/168.raccoon\n",
      "data/train/169.radio-telescope\n",
      "data/train/170.rainbow\n",
      "data/train/171.refrigerator\n",
      "data/train/172.revolver-101\n",
      "data/train/173.rifle\n",
      "data/train/174.rotary-phone\n",
      "data/train/175.roulette-wheel\n",
      "data/train/176.saddle\n",
      "data/train/177.saturn\n",
      "data/train/178.school-bus\n",
      "data/train/179.scorpion-101\n",
      "data/train/180.screwdriver\n",
      "data/train/181.segway\n",
      "data/train/182.self-propelled-lawn-mower\n",
      "data/train/183.sextant\n",
      "data/train/184.sheet-music\n",
      "data/train/185.skateboard\n",
      "data/train/186.skunk\n",
      "data/train/187.skyscraper\n",
      "data/train/188.smokestack\n",
      "data/train/189.snail\n",
      "data/train/190.snake\n",
      "data/train/191.sneaker\n",
      "data/train/192.snowmobile\n",
      "data/train/193.soccer-ball\n",
      "data/train/194.socks\n",
      "data/train/195.soda-can\n",
      "data/train/196.spaghetti\n",
      "data/train/197.speed-boat\n",
      "data/train/198.spider\n",
      "data/train/199.spoon\n",
      "data/train/200.stained-glass\n",
      "data/train/201.starfish-101\n",
      "data/train/202.steering-wheel\n",
      "data/train/203.stirrups\n",
      "data/train/204.sunflower-101\n",
      "data/train/205.superman\n",
      "data/train/206.sushi\n",
      "data/train/207.swan\n",
      "data/train/208.swiss-army-knife\n",
      "data/train/209.sword\n",
      "data/train/210.syringe\n",
      "data/train/211.tambourine\n",
      "data/train/212.teapot\n",
      "data/train/213.teddy-bear\n",
      "data/train/214.teepee\n",
      "data/train/215.telephone-box\n",
      "data/train/216.tennis-ball\n",
      "data/train/217.tennis-court\n",
      "data/train/218.tennis-racket\n",
      "data/train/219.theodolite\n",
      "data/train/220.toaster\n",
      "data/train/221.tomato\n",
      "data/train/222.tombstone\n",
      "data/train/223.top-hat\n",
      "data/train/224.touring-bike\n",
      "data/train/225.tower-pisa\n",
      "data/train/226.traffic-light\n",
      "data/train/227.treadmill\n",
      "data/train/228.triceratops\n",
      "data/train/229.tricycle\n",
      "data/train/230.trilobite-101\n",
      "data/train/231.tripod\n",
      "data/train/232.t-shirt\n",
      "data/train/233.tuning-fork\n",
      "data/train/234.tweezer\n",
      "data/train/235.umbrella-101\n",
      "data/train/236.unicorn\n",
      "data/train/237.vcr\n",
      "data/train/238.video-projector\n",
      "data/train/239.washing-machine\n",
      "data/train/240.watch-101\n",
      "data/train/241.waterfall\n",
      "data/train/242.watermelon\n",
      "data/train/243.welding-mask\n",
      "data/train/244.wheelbarrow\n",
      "data/train/245.windmill\n",
      "data/train/246.wine-bottle\n",
      "data/train/247.xylophone\n",
      "data/train/248.yarmulke\n",
      "data/train/249.yo-yo\n",
      "data/train/250.zebra\n",
      "data/train/251.airplanes-101\n",
      "data/train/252.car-side-101\n",
      "data/train/253.faces-easy-101\n",
      "data/train/254.greyhound\n",
      "data/train/255.tennis-shoes\n",
      "data/train/256.toad\n",
      "data/train/257.clutter\n"
     ]
    }
   ],
   "source": [
    "train_set = load_train_set(df)"
   ]
  },
  {
   "cell_type": "markdown",
   "metadata": {},
   "source": [
    "### Classes distribution"
   ]
  },
  {
   "cell_type": "code",
   "execution_count": 268,
   "metadata": {
    "scrolled": true
   },
   "outputs": [
    {
     "data": {
      "image/png": "[encoded data removed]",
      "text/plain": [
       "<matplotlib.figure.Figure at 0x3fcb90b38>"
      ]
     },
     "metadata": {},
     "output_type": "display_data"
    }
   ],
   "source": [
    "plt.figure(figsize=(12, 8))\n",
    "plt.hist(df['target'], bins=range(len(df['target'].unique())))\n",
    "plt.xlabel('Classes')\n",
    "plt.ylabel('Frequency');"
   ]
  },
  {
   "cell_type": "code",
   "execution_count": 273,
   "metadata": {},
   "outputs": [],
   "source": [
    "X = df\n",
    "y = df['target']\n",
    "df.to_csv('train_data');"
   ]
  },
  {
   "cell_type": "code",
   "execution_count": null,
   "metadata": {
    "collapsed": true
   },
   "outputs": [],
   "source": [
    "def load_test_set():\n",
    "    num_images = 0\n",
    "    images = os.listdir(test_folder)\n",
    "    test_set = []\n",
    "    for image in images:\n",
    "        image = os.path.join(test_folder, image)\n",
    "        test_set.append(io.imread(image))\n",
    "    return test_set"
   ]
  },
  {
   "cell_type": "code",
   "execution_count": null,
   "metadata": {
    "scrolled": true
   },
   "outputs": [],
   "source": [
    "test_set = load_test_set()"
   ]
  },
  {
   "cell_type": "code",
   "execution_count": null,
   "metadata": {},
   "outputs": [],
   "source": [
    "img = test_set[0]\n",
    "shape = (IMAGE_WIDTH, IMAGE_HEIGHT)\n",
    "size = skimage.transform.resize(img, shape)"
   ]
  },
  {
   "cell_type": "code",
   "execution_count": null,
   "metadata": {},
   "outputs": [],
   "source": [
    "img.size"
   ]
  },
  {
   "cell_type": "code",
   "execution_count": null,
   "metadata": {},
   "outputs": [],
   "source": [
    "scale = skimage.transform.rescale(img, 0.5)"
   ]
  }
 ],
 "metadata": {
  "kernelspec": {
   "display_name": "Python 3",
   "language": "python",
   "name": "python3"
  },
  "language_info": {
   "codemirror_mode": {
    "name": "ipython",
    "version": 3
   },
   "file_extension": ".py",
   "mimetype": "text/x-python",
   "name": "python",
   "nbconvert_exporter": "python",
   "pygments_lexer": "ipython3",
   "version": "3.6.1"
  }
 },
 "nbformat": 4,
 "nbformat_minor": 2
}
