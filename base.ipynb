{
 "cells": [
  {
   "cell_type": "markdown",
   "metadata": {},
   "source": [
    "### CNN\n",
    "* http://andrew.gibiansky.com/blog/machine-learning/convolutional-neural-networks/\n",
    "* http://www.wildml.com/2015/11/understanding-convolutional-neural-networks-for-nlp/\n",
    "* https://medium.com/@ageitgey/machine-learning-is-fun-part-3-deep-learning-and-convolutional-neural-networks-f40359318721\n",
    "* https://algotravelling.com/ru/%D0%BC%D0%B0%D1%88%D0%B8%D0%BD%D0%BD%D0%BE%D0%B5-%D0%BE%D0%B1%D1%83%D1%87%D0%B5%D0%BD%D0%B8%D0%B5-%D1%8D%D1%82%D0%BE-%D0%B2%D0%B5%D1%81%D0%B5%D0%BB%D0%BE-3/\n",
    "* https://adeshpande3.github.io/adeshpande3.github.io/A-Beginner's-Guide-To-Understanding-Convolutional-Neural-Networks-Part-2/\n",
    "* https://medium.com/@karpathy/yes-you-should-understand-backprop-e2f06eab496b\n",
    "* https://github.com/udsclub/images-classification-caltech\n",
    "* https://www.asozykin.ru/courses/nnpython"
   ]
  },
  {
   "cell_type": "markdown",
   "metadata": {},
   "source": [
    "### Preprocessing\n",
    "* https://www.embedded-vision.com/sites/default/files/apress/computervisionmetrics/chapter2/9781430259299_Ch02.pdf\n",
    "* https://datascience.stackexchange.com/questions/5224/how-to-prepare-augment-images-for-neural-network\n",
    "* https://www.quora.com/What-are-some-ways-of-pre-procesing-images-before-applying-convolutional-neural-networks-for-the-task-of-image-classification\n",
    "* http://cs231n.github.io/neural-networks-2/#datapre\n",
    "* http://www.robots.ox.ac.uk/~vgg/practicals/cnn/#getting-started\n",
    "* https://www.safaribooksonline.com/library/view/programming-computer-vision/9781449341916/ch01.html\n",
    "* https://stackoverflow.com/a/10169025/5151861\n",
    "* augmentation tf+keras http://machinelearningmastery.com/image-augmentation-deep-learning-keras/"
   ]
  },
  {
   "cell_type": "markdown",
   "metadata": {},
   "source": [
    "#### Augmentation\n",
    "* rotation: random with angle between 0° and 360° (uniform)\n",
    "* translation: random with shift between -10 and 10 pixels (uniform)\n",
    "* rescaling: random with scale factor between 1/1.6 and 1.6 (log-uniform)\n",
    "* flipping: yes or no (bernoulli)\n",
    "* shearing: random with angle between -20° and 20° (uniform)\n",
    "* stretching: random with stretch factor between 1/1.3 and 1.3 (log-uniform)\n",
    "* whitening\n",
    "* https://www.tensorflow.org/api_docs/python/tf/image\n",
    "* https://github.com/aleju/imgaug\n",
    "* http://augmentor.readthedocs.io/en/master/\n",
    "* https://github.com/analysiscenter/dataset"
   ]
  },
  {
   "cell_type": "markdown",
   "metadata": {},
   "source": [
    "* uint8 0 to 255\n",
    "* uint16 0 to 65535\n",
    "* uint32 0 to 232\n",
    "* float -1 to 1 or 0 to 1\n",
    "* int8 -128 to 127\n",
    "* int16 -32768 to 32767\n",
    "* int32-231 to 231 - 1"
   ]
  },
  {
   "cell_type": "markdown",
   "metadata": {},
   "source": [
    "* Gaussian blurring of images\n",
    "* Morphology—Counting Objects"
   ]
  },
  {
   "cell_type": "markdown",
   "metadata": {},
   "source": [
    "Ресайзинг - важно\n",
    "* http://ufldl.stanford.edu/wiki/index.php/UFLDL_Tutorial"
   ]
  },
  {
   "cell_type": "markdown",
   "metadata": {},
   "source": [
    "* одну- дву- слойную cnn\n",
    "* графики ошибки\n",
    "* 224х224\n",
    "* 32х32\n",
    "* в керас\n",
    "* серые картинки \n",
    "* тензор борд\n",
    "* презентация по аугментации"
   ]
  },
  {
   "cell_type": "code",
   "execution_count": 1,
   "metadata": {
    "scrolled": true
   },
   "outputs": [
    {
     "name": "stderr",
     "output_type": "stream",
     "text": [
      "Using TensorFlow backend.\n"
     ]
    }
   ],
   "source": [
    "from scipy import ndimage\n",
    "import numpy as np\n",
    "import pandas as pd\n",
    "import os\n",
    "from IPython.display import display, Image\n",
    "from scipy import misc\n",
    "import matplotlib.pyplot as plt\n",
    "from keras.preprocessing.image import ImageDataGenerator\n",
    "import tensorflow\n",
    "from sklearn.model_selection import train_test_split\n",
    "\n",
    "%matplotlib inline"
   ]
  },
  {
   "cell_type": "code",
   "execution_count": 2,
   "metadata": {
    "collapsed": true
   },
   "outputs": [],
   "source": [
    "pixel_depth = 255.0 # number of levels per pixel\n",
    "num_classes = 257 # number of total classes\n",
    "test_folder = 'data/test' # dir, where test set is placed\n",
    "train_folder = 'data/train' # dir, where train set is placed"
   ]
  },
  {
   "cell_type": "code",
   "execution_count": 3,
   "metadata": {
    "collapsed": true
   },
   "outputs": [],
   "source": [
    "def reshape(img):\n",
    "    nsamples, nx, ny = img.shape\n",
    "    return img.reshape((nsamples,nx*ny))"
   ]
  },
  {
   "cell_type": "code",
   "execution_count": 4,
   "metadata": {
    "collapsed": true
   },
   "outputs": [],
   "source": [
    "def load_test_set():\n",
    "    num_images = 0\n",
    "    images = os.listdir(test_folder)\n",
    "    test_set = []\n",
    "    for image in images:\n",
    "        image = os.path.join(test_folder, image)\n",
    "        test_set.append(io.imread(image))\n",
    "    return test_set"
   ]
  },
  {
   "cell_type": "code",
   "execution_count": null,
   "metadata": {
    "collapsed": true,
    "scrolled": true
   },
   "outputs": [],
   "source": [
    "test_set = load_test_set()"
   ]
  },
  {
   "cell_type": "code",
   "execution_count": null,
   "metadata": {},
   "outputs": [],
   "source": [
    "len(train_metadata)"
   ]
  },
  {
   "cell_type": "code",
   "execution_count": 5,
   "metadata": {
    "scrolled": false
   },
   "outputs": [
    {
     "name": "stdout",
     "output_type": "stream",
     "text": [
      ".DS_Store\n",
      "030.canoe\n",
      "060.duck\n",
      "090.gorilla\n",
      "120.joy-stick\n",
      "150.octopus\n",
      "180.screwdriver\n",
      "210.syringe\n",
      "240.watch-101\n",
      "CPU times: user 6min 2s, sys: 22.6 s, total: 6min 25s\n",
      "Wall time: 7min 5s\n"
     ]
    }
   ],
   "source": [
    "%%time\n",
    "dir_train = 'data/train'\n",
    "train_df = pd.DataFrame(columns = ['category', 'image_name', 'width', 'height', 'type', 'target'])\n",
    "folders = os.listdir(dir_train)\n",
    "for ind, folder in enumerate(folders):\n",
    "    if ind % 30 == 0:\n",
    "        print('{}'.format(folder))\n",
    "    folder = os.path.join(train_folder, folder)\n",
    "    if os.path.isdir(folder):\n",
    "        image_files = os.listdir(folder)\n",
    "        for image_file in image_files:\n",
    "            if not image_file.startswith('.'):\n",
    "                image = misc.imread(os.path.join(folder, image_file))\n",
    "                category = folder[15:]\n",
    "                width = image.shape[0]\n",
    "                height = image.shape[1]\n",
    "                #target = folder.split('.')[0].split('/')[2]\n",
    "                target = int(folder.split('.')[0].split('/')[2])\n",
    "                train_df.loc[train_df.shape[0]]=[category, image_file, width, \n",
    "                                                 height, image.dtype, target]"
   ]
  },
  {
   "cell_type": "code",
   "execution_count": 6,
   "metadata": {
    "collapsed": true
   },
   "outputs": [],
   "source": [
    "train_df.to_csv('data/train_df.csv')"
   ]
  },
  {
   "cell_type": "markdown",
   "metadata": {},
   "source": [
    "### Classes distribution"
   ]
  },
  {
   "cell_type": "code",
   "execution_count": 7,
   "metadata": {
    "scrolled": false
   },
   "outputs": [
    {
     "data": {
      "image/png": "[encoded data removed]",
      "text/plain": [
       "<matplotlib.figure.Figure at 0x114aaba20>"
      ]
     },
     "metadata": {},
     "output_type": "display_data"
    }
   ],
   "source": [
    "plt.figure(figsize=(12, 8))\n",
    "plt.hist(train_df['target'], bins=range(len(train_df['target'].unique())))\n",
    "plt.xlabel('Classes')\n",
    "plt.ylabel('Frequency');"
   ]
  },
  {
   "cell_type": "code",
   "execution_count": 8,
   "metadata": {
    "collapsed": true
   },
   "outputs": [],
   "source": [
    "train_df = pd.read_csv('data/train_df.csv', index_col=0)"
   ]
  },
  {
   "cell_type": "code",
   "execution_count": 10,
   "metadata": {
    "scrolled": true
   },
   "outputs": [],
   "source": [
    "y = train_df['target']\n",
    "X = train_df.copy()\n",
    "X.drop('target', axis=1, inplace=True)"
   ]
  },
  {
   "cell_type": "code",
   "execution_count": 15,
   "metadata": {
    "collapsed": true
   },
   "outputs": [],
   "source": [
    "X.to_csv('data/train_features')\n",
    "y.to_csv('data/train_target')"
   ]
  },
  {
   "cell_type": "code",
   "execution_count": 16,
   "metadata": {
    "collapsed": true
   },
   "outputs": [],
   "source": [
    "def check_dir(directory):\n",
    "    if not os.path.exists(directory):\n",
    "        create_dir(directory)"
   ]
  },
  {
   "cell_type": "code",
   "execution_count": 17,
   "metadata": {
    "collapsed": true
   },
   "outputs": [],
   "source": [
    "def create_dir(directory):\n",
    "    os.makedirs(directory)"
   ]
  },
  {
   "cell_type": "code",
   "execution_count": 18,
   "metadata": {
    "collapsed": true
   },
   "outputs": [],
   "source": [
    "def norm(img):\n",
    "    return img / 255.0"
   ]
  },
  {
   "cell_type": "code",
   "execution_count": 38,
   "metadata": {},
   "outputs": [
    {
     "name": "stdout",
     "output_type": "stream",
     "text": [
      "030.canoe\n",
      "060.duck\n",
      "090.gorilla\n",
      "120.joy-stick\n",
      "150.octopus\n",
      "180.screwdriver\n",
      "210.syringe\n",
      "240.watch-101\n"
     ]
    }
   ],
   "source": [
    "dir_train_transformed = 'data/train_transformed'\n",
    "dir_train = 'data/train'\n",
    "img_size=(64, 64)\n",
    "    \n",
    "check_dir(dir_train_transformed)\n",
    "folders = os.listdir(dir_train)\n",
    "for ind, folder in enumerate(folders):\n",
    "        subfolder = os.path.join(dir_train, folder)\n",
    "        if os.path.isdir(subfolder):\n",
    "            if ind % 30 == 0:\n",
    "                print('{}'.format(folder))\n",
    "            for image_file in os.listdir(subfolder):\n",
    "                if not image_file.startswith('.'):\n",
    "                    name = os.path.join(subfolder, image_file)\n",
    "                    image = misc.imread(name)\n",
    "                    if len(image.shape) == 2:\n",
    "                        image = np.stack((image,)*3)\n",
    "                    image = misc.imresize(image, img_size, interp='bicubic')\n",
    "                    #image = norm(image)\n",
    "                    fold_to_save = os.path.join(dir_train_transformed, image_file)\n",
    "                    misc.imsave(fold_to_save, image)"
   ]
  },
  {
   "cell_type": "code",
   "execution_count": 21,
   "metadata": {
    "scrolled": true
   },
   "outputs": [
    {
     "name": "stdout",
     "output_type": "stream",
     "text": [
      "     0/ 22897 images loaded\n",
      "  5000/ 22897 images loaded\n",
      " 10000/ 22897 images loaded\n",
      " 15000/ 22897 images loaded\n",
      " 20000/ 22897 images loaded\n",
      "CPU times: user 1min 15s, sys: 3.99 s, total: 1min 19s\n",
      "Wall time: 1min 28s\n"
     ]
    }
   ],
   "source": [
    "%%time\n",
    "# load data in flattened form\n",
    "\n",
    "dir_train_transformed = 'data/train_transformed'\n",
    "# img parameters\n",
    "img_shape = (64, 64)\n",
    "channels = 3\n",
    "img_shape_flattened = img_shape[0] * img_shape[1] * channels\n",
    "img_qty = train_df.shape[0]\n",
    "\n",
    "# initialize X,y\n",
    "X = np.empty(shape=(img_qty, img_shape_flattened), dtype=np.int8)\n",
    "y = np.empty(shape=(img_qty,), dtype=np.uint16)\n",
    "\n",
    "# read images\n",
    "for i,f_name in enumerate(os.listdir(dir_train_transformed)):\n",
    "    if i % 5000 == 0:\n",
    "        print('{:6d}/{:6d} images loaded'.format(i, img_qty))\n",
    "    \n",
    "    img_path = os.path.join(dir_train_transformed, f_name)\n",
    "    X[i, :] = misc.imread(img_path).flatten('C') # since img is np.ndarray, flatten in row-style\n",
    "    y[i] = train_df.loc[train_df['image_name'] == f_name, 'target'].iloc[0]"
   ]
  },
  {
   "cell_type": "code",
   "execution_count": 39,
   "metadata": {
    "collapsed": true,
    "scrolled": true
   },
   "outputs": [],
   "source": [
    "X_train, X_test, y_train, t_test = train_test_split(X, y, test_size = 0.3, stratify=y)"
   ]
  },
  {
   "cell_type": "code",
   "execution_count": 40,
   "metadata": {
    "collapsed": true
   },
   "outputs": [],
   "source": [
    "from sklearn.linear_model import LogisticRegression  # baseline classifier\n",
    "from sklearn.decomposition import PCA # to reduce training columns\n",
    "from sklearn.pipeline import Pipeline # to \"glue\" model steps/components together\n",
    "from sklearn.metrics import accuracy_score # to test quality of the classifier\n",
    "from sklearn.preprocessing import StandardScaler"
   ]
  },
  {
   "cell_type": "markdown",
   "metadata": {},
   "source": [
    "### Find optimal PCA components"
   ]
  },
  {
   "cell_type": "code",
   "execution_count": null,
   "metadata": {},
   "outputs": [],
   "source": [
    "pca = PCA(n_components=2000).fit(X_train)\n",
    "print('{}'.format(np.cumsum(pca.explained_variance_ratio_)))"
   ]
  },
  {
   "cell_type": "code",
   "execution_count": null,
   "metadata": {},
   "outputs": [],
   "source": [
    "plt.plot(np.cumsum(pca.explained_variance_ratio_))\n",
    "plt.xlabel('Number of components')\n",
    "plt.ylabel('Total explained variance')"
   ]
  },
  {
   "cell_type": "code",
   "execution_count": 24,
   "metadata": {
    "collapsed": true
   },
   "outputs": [],
   "source": [
    "pca = PCA(n_components=2000, random_state=42)\n",
    "svc = LogisticRegression(random_state=42, C=0.1, max_iter=50, verbose=2, n_jobs=-1, class_weight='balanced')\n",
    "scaler = StandardScaler()\n",
    "\n",
    "model = Pipeline((('scaler', scaler), ('dim_reduction', pca), ('classifier', svc)))"
   ]
  },
  {
   "cell_type": "code",
   "execution_count": 25,
   "metadata": {
    "collapsed": true
   },
   "outputs": [],
   "source": [
    "X_train_pca = pca.fit_transform(X_train)\n",
    "X_test_pca = pca.fit_transform(X_test)"
   ]
  },
  {
   "cell_type": "code",
   "execution_count": null,
   "metadata": {},
   "outputs": [],
   "source": [
    "svc.fit(X_train_pca, y_train)"
   ]
  },
  {
   "cell_type": "code",
   "execution_count": null,
   "metadata": {
    "collapsed": true
   },
   "outputs": [],
   "source": [
    "accuracy(X_train, y_train)\n",
    "accuracy(X_test, y_test)"
   ]
  },
  {
   "cell_type": "code",
   "execution_count": null,
   "metadata": {
    "collapsed": true
   },
   "outputs": [],
   "source": [
    "y_pred = svc.predict(X_test)\n",
    "\n",
    "sub = pd.DataFrame(\n",
    "    data=[row for row in zip(os.list.dir(dir_test_transformed), y_pred.astype(int).tolist)],\n",
    "    columns=['image', 'class']\n",
    ")"
   ]
  },
  {
   "cell_type": "code",
   "execution_count": null,
   "metadata": {
    "collapsed": true
   },
   "outputs": [],
   "source": [
    "def accuracy(X, y):\n",
    "    print('accuracy: {}'.forma(accuracy_score(y, model.predict(X))))"
   ]
  },
  {
   "cell_type": "code",
   "execution_count": null,
   "metadata": {
    "collapsed": true
   },
   "outputs": [],
   "source": [
    "%%time\n",
    "dir_test_transformed = 'data/test_transformed'\n",
    "img_size=(64, 64)\n",
    "check_dir(dir_test_transformed)\n",
    "folders = os.listdir(dir_test_transformed)\n",
    "for ind, folder in enumerate(folders):\n",
    "        subfolder = os.path.join(train_folder, folder)\n",
    "        if os.path.isdir(subfolder):\n",
    "            if ind % 30 == 0:\n",
    "                print('{}'.format(folder))\n",
    "            for image_file in os.listdir(subfolder):\n",
    "                if not image_file.startswith('.'):\n",
    "                    name = os.path.join(subfolder, image_file)\n",
    "                    image = misc.imread(name)\n",
    "                    if len(image.shape) == 2:\n",
    "                        image = np.stack((image,)*3)\n",
    "                    image = misc.imresize(image, img_size, interp='bicubic')\n",
    "                    #image = norm(image)\n",
    "                    fold_to_save = os.path.join(transform_folder, image_file)\n",
    "                    misc.imsave(fold_to_save, image)"
   ]
  },
  {
   "cell_type": "code",
   "execution_count": null,
   "metadata": {
    "collapsed": true
   },
   "outputs": [],
   "source": [
    "%%time\n",
    "# load data in flattened form\n",
    "\n",
    "# img parameters\n",
    "dir_test_transformed = 'data/test_transformed'\n",
    "img_shape_flattened = img_shape[0] * img_shape[1] * channels\n",
    "img_qty = train_df.shape[0]\n",
    "\n",
    "# initialize X,y\n",
    "X_test = np.empty(shape=(img_qty, img_shape_flattened), dtype=np.int8)\n",
    "\n",
    "# read images\n",
    "for i,f_name in enumerate(os.listdir(dir_test_transformed)):\n",
    "    if i % 5000 == 0:\n",
    "        print('{:6d}/{:6d} images loaded'.format(i, img_qty))\n",
    "    \n",
    "    img_path = os.path.join(dir_train_transformed, f_name)\n",
    "    X[i, :] = misc.imread(img_path).flatten('C') # since img is np.ndarray, flatten in row-style"
   ]
  }
 ],
 "metadata": {
  "kernelspec": {
   "display_name": "Python 3",
   "language": "python",
   "name": "python3"
  },
  "language_info": {
   "codemirror_mode": {
    "name": "ipython",
    "version": 3
   },
   "file_extension": ".py",
   "mimetype": "text/x-python",
   "name": "python",
   "nbconvert_exporter": "python",
   "pygments_lexer": "ipython3",
   "version": "3.6.1"
  }
 },
 "nbformat": 4,
 "nbformat_minor": 2
}
