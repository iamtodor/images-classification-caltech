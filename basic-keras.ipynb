{
 "cells": [
  {
   "cell_type": "markdown",
   "metadata": {},
   "source": [
    "### CNN\n",
    "* http://andrew.gibiansky.com/blog/machine-learning/convolutional-neural-networks/\n",
    "* http://www.wildml.com/2015/11/understanding-convolutional-neural-networks-for-nlp/\n",
    "* https://medium.com/@ageitgey/machine-learning-is-fun-part-3-deep-learning-and-convolutional-neural-networks-f40359318721\n",
    "* https://algotravelling.com/ru/%D0%BC%D0%B0%D1%88%D0%B8%D0%BD%D0%BD%D0%BE%D0%B5-%D0%BE%D0%B1%D1%83%D1%87%D0%B5%D0%BD%D0%B8%D0%B5-%D1%8D%D1%82%D0%BE-%D0%B2%D0%B5%D1%81%D0%B5%D0%BB%D0%BE-3/\n",
    "* https://adeshpande3.github.io/adeshpande3.github.io/A-Beginner's-Guide-To-Understanding-Convolutional-Neural-Networks-Part-2/\n",
    "* https://medium.com/@karpathy/yes-you-should-understand-backprop-e2f06eab496b\n",
    "* https://www.asozykin.ru/courses/nnpython\n",
    "* https://www.tensorflow.org/tutorials/deep_cnn#convolutional-neural-networks"
   ]
  },
  {
   "cell_type": "code",
   "execution_count": 10,
   "metadata": {},
   "outputs": [],
   "source": [
    "from scipy import ndimage\n",
    "import numpy as np\n",
    "import pandas as pd\n",
    "import os\n",
    "from IPython.display import display, Image\n",
    "from scipy import misc\n",
    "import matplotlib.pyplot as plt\n",
    "import tensorflow\n",
    "import seaborn\n",
    "\n",
    "from sklearn.model_selection import train_test_split\n",
    "\n",
    "from keras.models import Sequential\n",
    "from keras.layers import Conv2D, MaxPooling2D, Activation, Dropout, Flatten, Dense\n",
    "from keras.optimizers import SGD\n",
    "from keras.callbacks import ModelCheckpoint\n",
    "from keras.utils import to_categorical\n",
    "from keras.preprocessing.image import ImageDataGenerator\n",
    "\n",
    "%matplotlib inline"
   ]
  },
  {
   "cell_type": "markdown",
   "metadata": {},
   "source": [
    "### Keras"
   ]
  },
  {
   "cell_type": "code",
   "execution_count": 15,
   "metadata": {},
   "outputs": [],
   "source": [
    "img_width = 32\n",
    "img_height = 32\n",
    "\n",
    "# faced with the issue https://stackoverflow.com/a/39851572/5151861\n",
    "#                      https://github.com/fchollet/keras/issues/3945#issuecomment-274321680\n",
    "\n",
    "model = Sequential()\n",
    "model.add(Conv2D(32, (3, 3), input_shape=(img_width, img_height, 3), padding='same'))\n",
    "model.add(Activation('relu'))\n",
    "model.add(MaxPooling2D(pool_size=(2, 2), data_format=\"channels_last\"))\n",
    "\n",
    "model.add(Conv2D(32, (3, 3), data_format=\"channels_last\", padding='same'))\n",
    "model.add(Activation('relu'))\n",
    "model.add(MaxPooling2D(pool_size=(2, 2), data_format=\"channels_last\"))\n",
    "\n",
    "model.add(Conv2D(64, (3, 3), data_format=\"channels_last\", padding='same'))\n",
    "model.add(Activation('relu'))\n",
    "model.add(MaxPooling2D(pool_size=(2, 2), data_format=\"channels_last\"))\n",
    "\n",
    "model.add(Flatten())\n",
    "model.add(Dense(64))\n",
    "model.add(Activation('relu'))\n",
    "model.add(Dropout(0.5))\n",
    "model.add(Dense(n_classes))\n",
    "model.add(Activation('softmax'))"
   ]
  },
  {
   "cell_type": "code",
   "execution_count": null,
   "metadata": {
    "collapsed": true
   },
   "outputs": [],
   "source": [
    "model = Sequential()\n",
    "model.add(Conv2D(16, (5, 5), strides=(2, 2), padding='same', kernel_initializer='he_uniform', \n",
    "           use_bias=False, input_shape=(img_width, img_height, 3)))\n",
    "model.add(BatchNormalization(scale=False))\n",
    "model.add(Activation('relu'))\n",
    "\n",
    "model.add(Conv2D(32, (3, 3), padding='same', kernel_initializer='he_uniform', use_bias=False))\n",
    "model.add(BatchNormalization(scale=False))\n",
    "model.add(Activation('relu'))\n",
    "\n",
    "model.add(MaxPooling2D(pool_size=(2, 2), strides=(2, 2), padding='same'))\n",
    "model.add(Dropout(0.2))\n",
    "\n",
    "model.add(Conv2D(32, (1, 1), padding='same', kernel_initializer='he_uniform', use_bias=False))\n",
    "model.add(BatchNormalization(scale=False))\n",
    "model.add(Activation('relu'))\n",
    "\n",
    "model.add(MaxPooling2D(pool_size=(2, 2), strides=(2, 2), padding='same'))\n",
    "model.add(Dropout(0.2))\n",
    "\n",
    "model.add(Flatten())\n",
    "model.add(Dense(512, kernel_initializer='he_uniform'))\n",
    "model.add(Activation('relu'))\n",
    "model.add(Dropout(0.2))\n",
    "model.add(Dense(n_classes, kernel_initializer='he_uniform'))\n",
    "model.add(Activation('softmax'))"
   ]
  },
  {
   "cell_type": "code",
   "execution_count": 16,
   "metadata": {
    "collapsed": true
   },
   "outputs": [],
   "source": [
    "#sgd = SGD(lr=0.01, decay=1e-6, momentum=0.9, nesterov=True)\n",
    "model.compile(loss='categorical_crossentropy',\n",
    "              optimizer='rmsprop',\n",
    "              metrics=['accuracy'])"
   ]
  },
  {
   "cell_type": "code",
   "execution_count": 25,
   "metadata": {},
   "outputs": [
    {
     "name": "stdout",
     "output_type": "stream",
     "text": [
      "Found 17263 images belonging to 257 classes.\n",
      "Found 5634 images belonging to 257 classes.\n",
      "Found 7710 images belonging to 1 classes.\n"
     ]
    }
   ],
   "source": [
    "batch_size = 16\n",
    "n_classes = 257\n",
    "\n",
    "dir_train = 'data/keras/train'\n",
    "dir_val = 'data/keras/validation'\n",
    "dir_test = 'data/keras/test'\n",
    "\n",
    "train_datagen = ImageDataGenerator(\n",
    "        rotation_range=40,\n",
    "        width_shift_range=0.2,\n",
    "        height_shift_range=0.2,\n",
    "        rescale=1./255,\n",
    "        shear_range=0.2,\n",
    "        zoom_range=0.2,\n",
    "        horizontal_flip=True,\n",
    "        fill_mode='nearest')\n",
    "\n",
    "train_generator = train_datagen.flow_from_directory(\n",
    "    dir_train,\n",
    "    target_size=(img_width, img_height),\n",
    "    batch_size=batch_size,\n",
    "    class_mode='categorical')\n",
    "\n",
    "val_datagen = ImageDataGenerator(rescale=1. / 255)\n",
    "\n",
    "test_generator = val_datagen.flow_from_directory(\n",
    "    dir_val,\n",
    "    target_size=(img_width, img_height),\n",
    "    batch_size=batch_size,\n",
    "    class_mode='categorical')\n",
    "\n",
    "test_generator = val_datagen.flow_from_directory(\n",
    "    dir_test,\n",
    "    target_size=(img_width, img_height),\n",
    "    class_mode=None,\n",
    "    batch_size=batch_size,\n",
    "    shuffle=False)"
   ]
  },
  {
   "cell_type": "code",
   "execution_count": 27,
   "metadata": {
    "scrolled": true
   },
   "outputs": [
    {
     "name": "stdout",
     "output_type": "stream",
     "text": [
      "Epoch 1/20\n",
      "199/200 [============================>.] - ETA: 0s - loss: 5.2685 - acc: 0.0537"
     ]
    },
    {
     "ename": "ValueError",
     "evalue": "output of generator should be a tuple (x, y, sample_weight) or (x, y). Found: [[[[ 0.44313729  0.59215689  0.68235296]\n   [ 0.52549022  0.60000002  0.57647061]\n   [ 0.58431375  0.58039218  0.47058827]\n   ..., \n   [ 0.54509807  0.54509807  0.57647061]\n   [ 0.50588238  0.53333336  0.50196081]\n   [ 0.46274513  0.5411765   0.44313729]]\n\n  [[ 0.52941179  0.59215689  0.65098041]\n   [ 0.60000002  0.60784316  0.55686277]\n   [ 0.65098041  0.59215689  0.47058827]\n   ..., \n   [ 0.58431375  0.56078434  0.60000002]\n   [ 0.54509807  0.54901963  0.52549022]\n   [ 0.50196081  0.55686277  0.4666667 ]]\n\n  [[ 0.63529414  0.60000002  0.61960787]\n   [ 0.69411767  0.61960787  0.5529412 ]\n   [ 0.71764708  0.6156863   0.4784314 ]\n   ..., \n   [ 0.63137257  0.58431375  0.63137257]\n   [ 0.60392159  0.56470591  0.55686277]\n   [ 0.56470591  0.56862748  0.49803925]]\n\n  ..., \n  [[ 0.80784321  0.60000002  0.71764708]\n   [ 0.71372551  0.71764708  0.69803923]\n   [ 0.64705884  0.80392164  0.7019608 ]\n   ..., \n   [ 0.72156864  0.72549021  0.70588237]\n   [ 0.67843139  0.69411767  0.69803923]\n   [ 0.63529414  0.66666669  0.67843139]]\n\n  [[ 0.68627453  0.6156863   0.70980394]\n   [ 0.62352943  0.71372551  0.6901961 ]\n   [ 0.61176473  0.77647066  0.6901961 ]\n   ..., \n   [ 0.67450982  0.69803923  0.68235296]\n   [ 0.65882355  0.64705884  0.67450982]\n   [ 0.64705884  0.60392159  0.65882355]]\n\n  [[ 0.60784316  0.63529414  0.70980394]\n   [ 0.56078434  0.70588237  0.67450982]\n   [ 0.58823532  0.75686282  0.68235296]\n   ..., \n   [ 0.64313728  0.68627453  0.66274512]\n   [ 0.64705884  0.627451    0.65490198]\n   [ 0.65098041  0.56862748  0.64313728]]]\n\n\n [[[ 0.          0.          0.00784314]\n   [ 0.          0.          0.00784314]\n   [ 0.          0.          0.00784314]\n   ..., \n   [ 0.          0.          0.00784314]\n   [ 0.          0.          0.00784314]\n   [ 0.          0.          0.00784314]]\n\n  [[ 0.          0.          0.00784314]\n   [ 0.          0.          0.00784314]\n   [ 0.          0.          0.00784314]\n   ..., \n   [ 0.          0.          0.00784314]\n   [ 0.          0.          0.00784314]\n   [ 0.          0.          0.00784314]]\n\n  [[ 0.          0.          0.00784314]\n   [ 0.          0.          0.00784314]\n   [ 0.          0.          0.00784314]\n   ..., \n   [ 0.          0.          0.00784314]\n   [ 0.          0.          0.00784314]\n   [ 0.          0.          0.00784314]]\n\n  ..., \n  [[ 0.00392157  0.          0.00784314]\n   [ 0.00392157  0.          0.00784314]\n   [ 0.          0.          0.00784314]\n   ..., \n   [ 0.          0.          0.01568628]\n   [ 0.          0.          0.01960784]\n   [ 0.          0.          0.01960784]]\n\n  [[ 0.00392157  0.          0.00784314]\n   [ 0.00392157  0.          0.00784314]\n   [ 0.00392157  0.          0.00784314]\n   ..., \n   [ 0.          0.          0.01960784]\n   [ 0.          0.          0.01960784]\n   [ 0.          0.          0.01960784]]\n\n  [[ 0.00392157  0.          0.01568628]\n   [ 0.00392157  0.          0.00784314]\n   [ 0.00392157  0.          0.00784314]\n   ..., \n   [ 0.          0.          0.01960784]\n   [ 0.          0.          0.01960784]\n   [ 0.          0.          0.02745098]]]\n\n\n [[[ 0.09803922  0.23529413  0.21960786]\n   [ 0.07058824  0.21568629  0.14901961]\n   [ 0.09019608  0.25490198  0.10588236]\n   ..., \n   [ 0.26274511  0.41176474  0.3137255 ]\n   [ 0.09803922  0.25098041  0.14509805]\n   [ 0.09803922  0.25098041  0.13725491]]\n\n  [[ 0.20784315  0.36078432  0.34117648]\n   [ 0.09411766  0.25882354  0.18039216]\n   [ 0.05882353  0.23529413  0.08235294]\n   ..., \n   [ 0.20392159  0.33333334  0.25098041]\n   [ 0.          0.13725491  0.04313726]\n   [ 0.          0.13725491  0.03529412]]\n\n  [[ 0.16470589  0.34509805  0.3019608 ]\n   [ 0.10588236  0.29411766  0.20000002]\n   [ 0.11764707  0.3137255   0.16470589]\n   ..., \n   [ 0.07843138  0.18823531  0.12941177]\n   [ 0.          0.05882353  0.        ]\n   [ 0.01176471  0.1254902   0.04705883]]\n\n  ..., \n  [[ 0.05882353  0.18823531  0.07450981]\n   [ 0.04705883  0.18823531  0.07843138]\n   [ 0.03137255  0.20000002  0.08235294]\n   ..., \n   [ 0.36470589  0.53333336  0.36470589]\n   [ 0.43137258  0.61176473  0.42745101]\n   [ 0.11764707  0.30588236  0.10980393]]\n\n  [[ 0.03137255  0.16078432  0.05490196]\n   [ 0.03137255  0.17254902  0.0627451 ]\n   [ 0.01176471  0.18039216  0.07058824]\n   ..., \n   [ 0.25882354  0.41960788  0.26274511]\n   [ 0.23137257  0.40000004  0.22352943]\n   [ 0.08235294  0.26274511  0.07058824]]\n\n  [[ 0.07058824  0.20000002  0.09411766]\n   [ 0.06666667  0.20784315  0.09803922]\n   [ 0.03921569  0.20784315  0.09803922]\n   ..., \n   [ 0.21176472  0.36078432  0.20784315]\n   [ 0.20000002  0.36078432  0.18823531]\n   [ 0.34117648  0.51372552  0.32156864]]]\n\n\n ..., \n [[[ 0.96862751  0.98431379  0.98039222]\n   [ 0.96862751  0.98431379  0.98039222]\n   [ 0.97254908  0.98823535  0.98431379]\n   ..., \n   [ 0.74117649  0.77647066  0.80392164]\n   [ 0.81960791  0.85490203  0.88235301]\n   [ 0.76470596  0.80000007  0.82745105]]\n\n  [[ 0.95294124  0.96862751  0.96470594]\n   [ 0.95686281  0.97254908  0.96862751]\n   [ 0.96078438  0.97647065  0.97254908]\n   ..., \n   [ 0.73333335  0.76862752  0.7960785 ]\n   [ 0.79215693  0.82745105  0.85490203]\n   [ 0.75294125  0.78823537  0.81568635]]\n\n  [[ 0.93725497  0.95294124  0.94901967]\n   [ 0.93725497  0.95294124  0.94901967]\n   [ 0.94117653  0.95686281  0.95294124]\n   ..., \n   [ 0.74117649  0.77647066  0.80392164]\n   [ 0.76078439  0.7960785   0.82352948]\n   [ 0.74901962  0.7843138   0.81176478]]\n\n  ..., \n  [[ 0.49019611  0.48627454  0.47058827]\n   [ 0.48627454  0.48235297  0.4666667 ]\n   [ 0.49019611  0.48627454  0.47058827]\n   ..., \n   [ 0.03921569  0.03921569  0.04705883]\n   [ 0.05490196  0.05490196  0.0627451 ]\n   [ 0.03529412  0.03529412  0.04313726]]\n\n  [[ 0.66274512  0.68235296  0.65882355]\n   [ 0.63137257  0.65098041  0.627451  ]\n   [ 0.58823532  0.60784316  0.58431375]\n   ..., \n   [ 0.08235294  0.08627451  0.10196079]\n   [ 0.07058824  0.07450981  0.09019608]\n   [ 0.02745098  0.03137255  0.04705883]]\n\n  [[ 0.95294124  0.98039222  0.95294124]\n   [ 0.92941183  0.95686281  0.92941183]\n   [ 0.90196085  0.92941183  0.90196085]\n   ..., \n   [ 0.56078434  0.57647061  0.58823532]\n   [ 0.45490199  0.47058827  0.48235297]\n   [ 0.33333334  0.34509805  0.36470589]]]\n\n\n [[[ 0.23137257  0.22352943  0.1254902 ]\n   [ 0.14901961  0.14117648  0.04313726]\n   [ 0.41176474  0.3921569   0.30588236]\n   ..., \n   [ 0.25098041  0.20784315  0.13725491]\n   [ 0.16078432  0.1254902   0.01176471]\n   [ 0.27450982  0.23529413  0.09803922]]\n\n  [[ 0.13333334  0.13333334  0.03921569]\n   [ 0.20000002  0.19607845  0.1137255 ]\n   [ 0.44705886  0.44313729  0.36470589]\n   ..., \n   [ 0.34117648  0.29803923  0.21176472]\n   [ 0.27058825  0.23529413  0.10588236]\n   [ 0.20392159  0.17254902  0.01960784]]\n\n  [[ 0.14509805  0.15686275  0.08235294]\n   [ 0.33725491  0.34901962  0.27450982]\n   [ 0.41960788  0.43137258  0.36470589]\n   ..., \n   [ 0.35686275  0.33333334  0.20784315]\n   [ 0.38431376  0.35686275  0.19215688]\n   [ 0.27843139  0.25490198  0.06666667]]\n\n  ..., \n  [[ 0.07058824  0.07843138  0.        ]\n   [ 0.25098041  0.25490198  0.18431373]\n   [ 0.21568629  0.21960786  0.14901961]\n   ..., \n   [ 0.01176471  0.02352941  0.05882353]\n   [ 0.03921569  0.05490196  0.09803922]\n   [ 0.04313726  0.06666667  0.1137255 ]]\n\n  [[ 0.01960784  0.02745098  0.        ]\n   [ 0.2392157   0.24705884  0.15294118]\n   [ 0.3019608   0.30980393  0.22352943]\n   ..., \n   [ 0.          0.03529412  0.03137255]\n   [ 0.          0.01568628  0.        ]\n   [ 0.02745098  0.06666667  0.03529412]]\n\n  [[ 0.07058824  0.08235294  0.        ]\n   [ 0.20784315  0.21960786  0.1137255 ]\n   [ 0.29019609  0.29803923  0.20392159]\n   ..., \n   [ 0.04705883  0.08627451  0.0509804 ]\n   [ 0.00784314  0.05490196  0.        ]\n   [ 0.09803922  0.15294118  0.0509804 ]]]\n\n\n [[[ 0.49019611  0.64313728  0.81176478]\n   [ 0.49411768  0.64705884  0.81568635]\n   [ 0.49803925  0.65098041  0.81960791]\n   ..., \n   [ 0.54901963  0.71764708  0.88627458]\n   [ 0.54901963  0.71764708  0.88627458]\n   [ 0.54901963  0.71764708  0.88627458]]\n\n  [[ 0.49803925  0.65098041  0.81960791]\n   [ 0.49803925  0.65098041  0.81960791]\n   [ 0.50196081  0.65490198  0.82352948]\n   ..., \n   [ 0.5529412   0.71764708  0.88235301]\n   [ 0.5529412   0.71764708  0.88235301]\n   [ 0.5529412   0.71764708  0.88235301]]\n\n  [[ 0.49803925  0.65882355  0.83137262]\n   [ 0.50196081  0.66274512  0.83529419]\n   [ 0.50196081  0.66274512  0.83529419]\n   ..., \n   [ 0.56862748  0.72156864  0.88235301]\n   [ 0.56470591  0.71764708  0.87843144]\n   [ 0.56470591  0.71764708  0.87843144]]\n\n  ..., \n  [[ 0.72156864  0.75294125  0.76470596]\n   [ 0.72941178  0.76862752  0.77647066]\n   [ 0.72941178  0.7843138   0.78823537]\n   ..., \n   [ 0.67058825  0.69803923  0.72941178]\n   [ 0.67450982  0.71764708  0.74117649]\n   [ 0.61960787  0.68627453  0.71372551]]\n\n  [[ 0.63137257  0.68627453  0.69803923]\n   [ 0.627451    0.68627453  0.69803923]\n   [ 0.61176473  0.6901961   0.69411767]\n   ..., \n   [ 0.67843139  0.69411767  0.73725492]\n   [ 0.66274512  0.7019608   0.74117649]\n   [ 0.65098041  0.71764708  0.74901962]]\n\n  [[ 0.627451    0.68627453  0.70588237]\n   [ 0.64313728  0.71372551  0.72941178]\n   [ 0.66274512  0.74509805  0.75686282]\n   ..., \n   [ 0.68235296  0.6901961   0.74117649]\n   [ 0.61960787  0.65098041  0.69411767]\n   [ 0.60784316  0.67450982  0.70588237]]]]",
     "output_type": "error",
     "traceback": [
      "\u001b[0;31m---------------------------------------------------------------------------\u001b[0m",
      "\u001b[0;31mValueError\u001b[0m                                Traceback (most recent call last)",
      "\u001b[0;32m<ipython-input-27-2b8fd31fe6a9>\u001b[0m in \u001b[0;36m<module>\u001b[0;34m()\u001b[0m\n\u001b[1;32m      4\u001b[0m     \u001b[0mepochs\u001b[0m\u001b[0;34m=\u001b[0m\u001b[0;36m20\u001b[0m\u001b[0;34m,\u001b[0m\u001b[0;34m\u001b[0m\u001b[0m\n\u001b[1;32m      5\u001b[0m     \u001b[0mvalidation_data\u001b[0m\u001b[0;34m=\u001b[0m\u001b[0mtest_generator\u001b[0m\u001b[0;34m,\u001b[0m\u001b[0;34m\u001b[0m\u001b[0m\n\u001b[0;32m----> 6\u001b[0;31m     validation_steps=200)\n\u001b[0m\u001b[1;32m      7\u001b[0m \u001b[0;34m\u001b[0m\u001b[0m\n\u001b[1;32m      8\u001b[0m \u001b[0;31m#model.save('first_try.h5')\u001b[0m\u001b[0;34m\u001b[0m\u001b[0;34m\u001b[0m\u001b[0m\n",
      "\u001b[0;32m/Library/Frameworks/Python.framework/Versions/3.6/lib/python3.6/site-packages/keras/legacy/interfaces.py\u001b[0m in \u001b[0;36mwrapper\u001b[0;34m(*args, **kwargs)\u001b[0m\n\u001b[1;32m     86\u001b[0m                 warnings.warn('Update your `' + object_name +\n\u001b[1;32m     87\u001b[0m                               '` call to the Keras 2 API: ' + signature, stacklevel=2)\n\u001b[0;32m---> 88\u001b[0;31m             \u001b[0;32mreturn\u001b[0m \u001b[0mfunc\u001b[0m\u001b[0;34m(\u001b[0m\u001b[0;34m*\u001b[0m\u001b[0margs\u001b[0m\u001b[0;34m,\u001b[0m \u001b[0;34m**\u001b[0m\u001b[0mkwargs\u001b[0m\u001b[0;34m)\u001b[0m\u001b[0;34m\u001b[0m\u001b[0m\n\u001b[0m\u001b[1;32m     89\u001b[0m         \u001b[0mwrapper\u001b[0m\u001b[0;34m.\u001b[0m\u001b[0m_legacy_support_signature\u001b[0m \u001b[0;34m=\u001b[0m \u001b[0minspect\u001b[0m\u001b[0;34m.\u001b[0m\u001b[0mgetargspec\u001b[0m\u001b[0;34m(\u001b[0m\u001b[0mfunc\u001b[0m\u001b[0;34m)\u001b[0m\u001b[0;34m\u001b[0m\u001b[0m\n\u001b[1;32m     90\u001b[0m         \u001b[0;32mreturn\u001b[0m \u001b[0mwrapper\u001b[0m\u001b[0;34m\u001b[0m\u001b[0m\n",
      "\u001b[0;32m/Library/Frameworks/Python.framework/Versions/3.6/lib/python3.6/site-packages/keras/models.py\u001b[0m in \u001b[0;36mfit_generator\u001b[0;34m(self, generator, steps_per_epoch, epochs, verbose, callbacks, validation_data, validation_steps, class_weight, max_q_size, workers, pickle_safe, initial_epoch)\u001b[0m\n\u001b[1;32m   1122\u001b[0m                                         \u001b[0mworkers\u001b[0m\u001b[0;34m=\u001b[0m\u001b[0mworkers\u001b[0m\u001b[0;34m,\u001b[0m\u001b[0;34m\u001b[0m\u001b[0m\n\u001b[1;32m   1123\u001b[0m                                         \u001b[0mpickle_safe\u001b[0m\u001b[0;34m=\u001b[0m\u001b[0mpickle_safe\u001b[0m\u001b[0;34m,\u001b[0m\u001b[0;34m\u001b[0m\u001b[0m\n\u001b[0;32m-> 1124\u001b[0;31m                                         initial_epoch=initial_epoch)\n\u001b[0m\u001b[1;32m   1125\u001b[0m \u001b[0;34m\u001b[0m\u001b[0m\n\u001b[1;32m   1126\u001b[0m     \u001b[0;34m@\u001b[0m\u001b[0minterfaces\u001b[0m\u001b[0;34m.\u001b[0m\u001b[0mlegacy_generator_methods_support\u001b[0m\u001b[0;34m\u001b[0m\u001b[0m\n",
      "\u001b[0;32m/Library/Frameworks/Python.framework/Versions/3.6/lib/python3.6/site-packages/keras/legacy/interfaces.py\u001b[0m in \u001b[0;36mwrapper\u001b[0;34m(*args, **kwargs)\u001b[0m\n\u001b[1;32m     86\u001b[0m                 warnings.warn('Update your `' + object_name +\n\u001b[1;32m     87\u001b[0m                               '` call to the Keras 2 API: ' + signature, stacklevel=2)\n\u001b[0;32m---> 88\u001b[0;31m             \u001b[0;32mreturn\u001b[0m \u001b[0mfunc\u001b[0m\u001b[0;34m(\u001b[0m\u001b[0;34m*\u001b[0m\u001b[0margs\u001b[0m\u001b[0;34m,\u001b[0m \u001b[0;34m**\u001b[0m\u001b[0mkwargs\u001b[0m\u001b[0;34m)\u001b[0m\u001b[0;34m\u001b[0m\u001b[0m\n\u001b[0m\u001b[1;32m     89\u001b[0m         \u001b[0mwrapper\u001b[0m\u001b[0;34m.\u001b[0m\u001b[0m_legacy_support_signature\u001b[0m \u001b[0;34m=\u001b[0m \u001b[0minspect\u001b[0m\u001b[0;34m.\u001b[0m\u001b[0mgetargspec\u001b[0m\u001b[0;34m(\u001b[0m\u001b[0mfunc\u001b[0m\u001b[0;34m)\u001b[0m\u001b[0;34m\u001b[0m\u001b[0m\n\u001b[1;32m     90\u001b[0m         \u001b[0;32mreturn\u001b[0m \u001b[0mwrapper\u001b[0m\u001b[0;34m\u001b[0m\u001b[0m\n",
      "\u001b[0;32m/Library/Frameworks/Python.framework/Versions/3.6/lib/python3.6/site-packages/keras/engine/training.py\u001b[0m in \u001b[0;36mfit_generator\u001b[0;34m(self, generator, steps_per_epoch, epochs, verbose, callbacks, validation_data, validation_steps, class_weight, max_q_size, workers, pickle_safe, initial_epoch)\u001b[0m\n\u001b[1;32m   1922\u001b[0m                                 \u001b[0mmax_q_size\u001b[0m\u001b[0;34m=\u001b[0m\u001b[0mmax_q_size\u001b[0m\u001b[0;34m,\u001b[0m\u001b[0;34m\u001b[0m\u001b[0m\n\u001b[1;32m   1923\u001b[0m                                 \u001b[0mworkers\u001b[0m\u001b[0;34m=\u001b[0m\u001b[0mworkers\u001b[0m\u001b[0;34m,\u001b[0m\u001b[0;34m\u001b[0m\u001b[0m\n\u001b[0;32m-> 1924\u001b[0;31m                                 pickle_safe=pickle_safe)\n\u001b[0m\u001b[1;32m   1925\u001b[0m                         \u001b[0;32melse\u001b[0m\u001b[0;34m:\u001b[0m\u001b[0;34m\u001b[0m\u001b[0m\n\u001b[1;32m   1926\u001b[0m                             \u001b[0;31m# No need for try/except because\u001b[0m\u001b[0;34m\u001b[0m\u001b[0;34m\u001b[0m\u001b[0m\n",
      "\u001b[0;32m/Library/Frameworks/Python.framework/Versions/3.6/lib/python3.6/site-packages/keras/legacy/interfaces.py\u001b[0m in \u001b[0;36mwrapper\u001b[0;34m(*args, **kwargs)\u001b[0m\n\u001b[1;32m     86\u001b[0m                 warnings.warn('Update your `' + object_name +\n\u001b[1;32m     87\u001b[0m                               '` call to the Keras 2 API: ' + signature, stacklevel=2)\n\u001b[0;32m---> 88\u001b[0;31m             \u001b[0;32mreturn\u001b[0m \u001b[0mfunc\u001b[0m\u001b[0;34m(\u001b[0m\u001b[0;34m*\u001b[0m\u001b[0margs\u001b[0m\u001b[0;34m,\u001b[0m \u001b[0;34m**\u001b[0m\u001b[0mkwargs\u001b[0m\u001b[0;34m)\u001b[0m\u001b[0;34m\u001b[0m\u001b[0m\n\u001b[0m\u001b[1;32m     89\u001b[0m         \u001b[0mwrapper\u001b[0m\u001b[0;34m.\u001b[0m\u001b[0m_legacy_support_signature\u001b[0m \u001b[0;34m=\u001b[0m \u001b[0minspect\u001b[0m\u001b[0;34m.\u001b[0m\u001b[0mgetargspec\u001b[0m\u001b[0;34m(\u001b[0m\u001b[0mfunc\u001b[0m\u001b[0;34m)\u001b[0m\u001b[0;34m\u001b[0m\u001b[0m\n\u001b[1;32m     90\u001b[0m         \u001b[0;32mreturn\u001b[0m \u001b[0mwrapper\u001b[0m\u001b[0;34m\u001b[0m\u001b[0m\n",
      "\u001b[0;32m/Library/Frameworks/Python.framework/Versions/3.6/lib/python3.6/site-packages/keras/engine/training.py\u001b[0m in \u001b[0;36mevaluate_generator\u001b[0;34m(self, generator, steps, max_q_size, workers, pickle_safe)\u001b[0m\n\u001b[1;32m   2018\u001b[0m                                      \u001b[0;34m'(x, y, sample_weight) '\u001b[0m\u001b[0;34m\u001b[0m\u001b[0m\n\u001b[1;32m   2019\u001b[0m                                      \u001b[0;34m'or (x, y). Found: '\u001b[0m \u001b[0;34m+\u001b[0m\u001b[0;34m\u001b[0m\u001b[0m\n\u001b[0;32m-> 2020\u001b[0;31m                                      str(generator_output))\n\u001b[0m\u001b[1;32m   2021\u001b[0m                 \u001b[0mouts\u001b[0m \u001b[0;34m=\u001b[0m \u001b[0mself\u001b[0m\u001b[0;34m.\u001b[0m\u001b[0mtest_on_batch\u001b[0m\u001b[0;34m(\u001b[0m\u001b[0mx\u001b[0m\u001b[0;34m,\u001b[0m \u001b[0my\u001b[0m\u001b[0;34m,\u001b[0m \u001b[0msample_weight\u001b[0m\u001b[0;34m=\u001b[0m\u001b[0msample_weight\u001b[0m\u001b[0;34m)\u001b[0m\u001b[0;34m\u001b[0m\u001b[0m\n\u001b[1;32m   2022\u001b[0m \u001b[0;34m\u001b[0m\u001b[0m\n",
      "\u001b[0;31mValueError\u001b[0m: output of generator should be a tuple (x, y, sample_weight) or (x, y). Found: [[[[ 0.44313729  0.59215689  0.68235296]\n   [ 0.52549022  0.60000002  0.57647061]\n   [ 0.58431375  0.58039218  0.47058827]\n   ..., \n   [ 0.54509807  0.54509807  0.57647061]\n   [ 0.50588238  0.53333336  0.50196081]\n   [ 0.46274513  0.5411765   0.44313729]]\n\n  [[ 0.52941179  0.59215689  0.65098041]\n   [ 0.60000002  0.60784316  0.55686277]\n   [ 0.65098041  0.59215689  0.47058827]\n   ..., \n   [ 0.58431375  0.56078434  0.60000002]\n   [ 0.54509807  0.54901963  0.52549022]\n   [ 0.50196081  0.55686277  0.4666667 ]]\n\n  [[ 0.63529414  0.60000002  0.61960787]\n   [ 0.69411767  0.61960787  0.5529412 ]\n   [ 0.71764708  0.6156863   0.4784314 ]\n   ..., \n   [ 0.63137257  0.58431375  0.63137257]\n   [ 0.60392159  0.56470591  0.55686277]\n   [ 0.56470591  0.56862748  0.49803925]]\n\n  ..., \n  [[ 0.80784321  0.60000002  0.71764708]\n   [ 0.71372551  0.71764708  0.69803923]\n   [ 0.64705884  0.80392164  0.7019608 ]\n   ..., \n   [ 0.72156864  0.72549021  0.70588237]\n   [ 0.67843139  0.69411767  0.69803923]\n   [ 0.63529414  0.66666669  0.67843139]]\n\n  [[ 0.68627453  0.6156863   0.70980394]\n   [ 0.62352943  0.71372551  0.6901961 ]\n   [ 0.61176473  0.77647066  0.6901961 ]\n   ..., \n   [ 0.67450982  0.69803923  0.68235296]\n   [ 0.65882355  0.64705884  0.67450982]\n   [ 0.64705884  0.60392159  0.65882355]]\n\n  [[ 0.60784316  0.63529414  0.70980394]\n   [ 0.56078434  0.70588237  0.67450982]\n   [ 0.58823532  0.75686282  0.68235296]\n   ..., \n   [ 0.64313728  0.68627453  0.66274512]\n   [ 0.64705884  0.627451    0.65490198]\n   [ 0.65098041  0.56862748  0.64313728]]]\n\n\n [[[ 0.          0.          0.00784314]\n   [ 0.          0.          0.00784314]\n   [ 0.          0.          0.00784314]\n   ..., \n   [ 0.          0.          0.00784314]\n   [ 0.          0.          0.00784314]\n   [ 0.          0.          0.00784314]]\n\n  [[ 0.          0.          0.00784314]\n   [ 0.          0.          0.00784314]\n   [ 0.          0.          0.00784314]\n   ..., \n   [ 0.          0.          0.00784314]\n   [ 0.          0.          0.00784314]\n   [ 0.          0.          0.00784314]]\n\n  [[ 0.          0.          0.00784314]\n   [ 0.          0.          0.00784314]\n   [ 0.          0.          0.00784314]\n   ..., \n   [ 0.          0.          0.00784314]\n   [ 0.          0.          0.00784314]\n   [ 0.          0.          0.00784314]]\n\n  ..., \n  [[ 0.00392157  0.          0.00784314]\n   [ 0.00392157  0.          0.00784314]\n   [ 0.          0.          0.00784314]\n   ..., \n   [ 0.          0.          0.01568628]\n   [ 0.          0.          0.01960784]\n   [ 0.          0.          0.01960784]]\n\n  [[ 0.00392157  0.          0.00784314]\n   [ 0.00392157  0.          0.00784314]\n   [ 0.00392157  0.          0.00784314]\n   ..., \n   [ 0.          0.          0.01960784]\n   [ 0.          0.          0.01960784]\n   [ 0.          0.          0.01960784]]\n\n  [[ 0.00392157  0.          0.01568628]\n   [ 0.00392157  0.          0.00784314]\n   [ 0.00392157  0.          0.00784314]\n   ..., \n   [ 0.          0.          0.01960784]\n   [ 0.          0.          0.01960784]\n   [ 0.          0.          0.02745098]]]\n\n\n [[[ 0.09803922  0.23529413  0.21960786]\n   [ 0.07058824  0.21568629  0.14901961]\n   [ 0.09019608  0.25490198  0.10588236]\n   ..., \n   [ 0.26274511  0.41176474  0.3137255 ]\n   [ 0.09803922  0.25098041  0.14509805]\n   [ 0.09803922  0.25098041  0.13725491]]\n\n  [[ 0.20784315  0.36078432  0.34117648]\n   [ 0.09411766  0.25882354  0.18039216]\n   [ 0.05882353  0.23529413  0.08235294]\n   ..., \n   [ 0.20392159  0.33333334  0.25098041]\n   [ 0.          0.13725491  0.04313726]\n   [ 0.          0.13725491  0.03529412]]\n\n  [[ 0.16470589  0.34509805  0.3019608 ]\n   [ 0.10588236  0.29411766  0.20000002]\n   [ 0.11764707  0.3137255   0.16470589]\n   ..., \n   [ 0.07843138  0.18823531  0.12941177]\n   [ 0.          0.05882353  0.        ]\n   [ 0.01176471  0.1254902   0.04705883]]\n\n  ..., \n  [[ 0.05882353  0.18823531  0.07450981]\n   [ 0.04705883  0.18823531  0.07843138]\n   [ 0.03137255  0.20000002  0.08235294]\n   ..., \n   [ 0.36470589  0.53333336  0.36470589]\n   [ 0.43137258  0.61176473  0.42745101]\n   [ 0.11764707  0.30588236  0.10980393]]\n\n  [[ 0.03137255  0.16078432  0.05490196]\n   [ 0.03137255  0.17254902  0.0627451 ]\n   [ 0.01176471  0.18039216  0.07058824]\n   ..., \n   [ 0.25882354  0.41960788  0.26274511]\n   [ 0.23137257  0.40000004  0.22352943]\n   [ 0.08235294  0.26274511  0.07058824]]\n\n  [[ 0.07058824  0.20000002  0.09411766]\n   [ 0.06666667  0.20784315  0.09803922]\n   [ 0.03921569  0.20784315  0.09803922]\n   ..., \n   [ 0.21176472  0.36078432  0.20784315]\n   [ 0.20000002  0.36078432  0.18823531]\n   [ 0.34117648  0.51372552  0.32156864]]]\n\n\n ..., \n [[[ 0.96862751  0.98431379  0.98039222]\n   [ 0.96862751  0.98431379  0.98039222]\n   [ 0.97254908  0.98823535  0.98431379]\n   ..., \n   [ 0.74117649  0.77647066  0.80392164]\n   [ 0.81960791  0.85490203  0.88235301]\n   [ 0.76470596  0.80000007  0.82745105]]\n\n  [[ 0.95294124  0.96862751  0.96470594]\n   [ 0.95686281  0.97254908  0.96862751]\n   [ 0.96078438  0.97647065  0.97254908]\n   ..., \n   [ 0.73333335  0.76862752  0.7960785 ]\n   [ 0.79215693  0.82745105  0.85490203]\n   [ 0.75294125  0.78823537  0.81568635]]\n\n  [[ 0.93725497  0.95294124  0.94901967]\n   [ 0.93725497  0.95294124  0.94901967]\n   [ 0.94117653  0.95686281  0.95294124]\n   ..., \n   [ 0.74117649  0.77647066  0.80392164]\n   [ 0.76078439  0.7960785   0.82352948]\n   [ 0.74901962  0.7843138   0.81176478]]\n\n  ..., \n  [[ 0.49019611  0.48627454  0.47058827]\n   [ 0.48627454  0.48235297  0.4666667 ]\n   [ 0.49019611  0.48627454  0.47058827]\n   ..., \n   [ 0.03921569  0.03921569  0.04705883]\n   [ 0.05490196  0.05490196  0.0627451 ]\n   [ 0.03529412  0.03529412  0.04313726]]\n\n  [[ 0.66274512  0.68235296  0.65882355]\n   [ 0.63137257  0.65098041  0.627451  ]\n   [ 0.58823532  0.60784316  0.58431375]\n   ..., \n   [ 0.08235294  0.08627451  0.10196079]\n   [ 0.07058824  0.07450981  0.09019608]\n   [ 0.02745098  0.03137255  0.04705883]]\n\n  [[ 0.95294124  0.98039222  0.95294124]\n   [ 0.92941183  0.95686281  0.92941183]\n   [ 0.90196085  0.92941183  0.90196085]\n   ..., \n   [ 0.56078434  0.57647061  0.58823532]\n   [ 0.45490199  0.47058827  0.48235297]\n   [ 0.33333334  0.34509805  0.36470589]]]\n\n\n [[[ 0.23137257  0.22352943  0.1254902 ]\n   [ 0.14901961  0.14117648  0.04313726]\n   [ 0.41176474  0.3921569   0.30588236]\n   ..., \n   [ 0.25098041  0.20784315  0.13725491]\n   [ 0.16078432  0.1254902   0.01176471]\n   [ 0.27450982  0.23529413  0.09803922]]\n\n  [[ 0.13333334  0.13333334  0.03921569]\n   [ 0.20000002  0.19607845  0.1137255 ]\n   [ 0.44705886  0.44313729  0.36470589]\n   ..., \n   [ 0.34117648  0.29803923  0.21176472]\n   [ 0.27058825  0.23529413  0.10588236]\n   [ 0.20392159  0.17254902  0.01960784]]\n\n  [[ 0.14509805  0.15686275  0.08235294]\n   [ 0.33725491  0.34901962  0.27450982]\n   [ 0.41960788  0.43137258  0.36470589]\n   ..., \n   [ 0.35686275  0.33333334  0.20784315]\n   [ 0.38431376  0.35686275  0.19215688]\n   [ 0.27843139  0.25490198  0.06666667]]\n\n  ..., \n  [[ 0.07058824  0.07843138  0.        ]\n   [ 0.25098041  0.25490198  0.18431373]\n   [ 0.21568629  0.21960786  0.14901961]\n   ..., \n   [ 0.01176471  0.02352941  0.05882353]\n   [ 0.03921569  0.05490196  0.09803922]\n   [ 0.04313726  0.06666667  0.1137255 ]]\n\n  [[ 0.01960784  0.02745098  0.        ]\n   [ 0.2392157   0.24705884  0.15294118]\n   [ 0.3019608   0.30980393  0.22352943]\n   ..., \n   [ 0.          0.03529412  0.03137255]\n   [ 0.          0.01568628  0.        ]\n   [ 0.02745098  0.06666667  0.03529412]]\n\n  [[ 0.07058824  0.08235294  0.        ]\n   [ 0.20784315  0.21960786  0.1137255 ]\n   [ 0.29019609  0.29803923  0.20392159]\n   ..., \n   [ 0.04705883  0.08627451  0.0509804 ]\n   [ 0.00784314  0.05490196  0.        ]\n   [ 0.09803922  0.15294118  0.0509804 ]]]\n\n\n [[[ 0.49019611  0.64313728  0.81176478]\n   [ 0.49411768  0.64705884  0.81568635]\n   [ 0.49803925  0.65098041  0.81960791]\n   ..., \n   [ 0.54901963  0.71764708  0.88627458]\n   [ 0.54901963  0.71764708  0.88627458]\n   [ 0.54901963  0.71764708  0.88627458]]\n\n  [[ 0.49803925  0.65098041  0.81960791]\n   [ 0.49803925  0.65098041  0.81960791]\n   [ 0.50196081  0.65490198  0.82352948]\n   ..., \n   [ 0.5529412   0.71764708  0.88235301]\n   [ 0.5529412   0.71764708  0.88235301]\n   [ 0.5529412   0.71764708  0.88235301]]\n\n  [[ 0.49803925  0.65882355  0.83137262]\n   [ 0.50196081  0.66274512  0.83529419]\n   [ 0.50196081  0.66274512  0.83529419]\n   ..., \n   [ 0.56862748  0.72156864  0.88235301]\n   [ 0.56470591  0.71764708  0.87843144]\n   [ 0.56470591  0.71764708  0.87843144]]\n\n  ..., \n  [[ 0.72156864  0.75294125  0.76470596]\n   [ 0.72941178  0.76862752  0.77647066]\n   [ 0.72941178  0.7843138   0.78823537]\n   ..., \n   [ 0.67058825  0.69803923  0.72941178]\n   [ 0.67450982  0.71764708  0.74117649]\n   [ 0.61960787  0.68627453  0.71372551]]\n\n  [[ 0.63137257  0.68627453  0.69803923]\n   [ 0.627451    0.68627453  0.69803923]\n   [ 0.61176473  0.6901961   0.69411767]\n   ..., \n   [ 0.67843139  0.69411767  0.73725492]\n   [ 0.66274512  0.7019608   0.74117649]\n   [ 0.65098041  0.71764708  0.74901962]]\n\n  [[ 0.627451    0.68627453  0.70588237]\n   [ 0.64313728  0.71372551  0.72941178]\n   [ 0.66274512  0.74509805  0.75686282]\n   ..., \n   [ 0.68235296  0.6901961   0.74117649]\n   [ 0.61960787  0.65098041  0.69411767]\n   [ 0.60784316  0.67450982  0.70588237]]]]"
     ]
    }
   ],
   "source": [
    "model.fit_generator(\n",
    "    train_generator,\n",
    "    steps_per_epoch=200,\n",
    "    epochs=20,\n",
    "    validation_data=test_generator,\n",
    "    validation_steps=200)\n",
    "\n",
    "#model.save('first_try.h5')"
   ]
  },
  {
   "cell_type": "code",
   "execution_count": null,
   "metadata": {
    "collapsed": true,
    "scrolled": true
   },
   "outputs": [],
   "source": [
    "results = model.predict_generator(test_generator, steps=nb_test_samples//64+1)\n",
    "results = np.argmax(results, axis=1)+1\n",
    "\n",
    "# create submission dataframe (in specified kaggle format)\n",
    "sub = pd.DataFrame(\n",
    "    data=[row for row in zip([i.split(\"/\")[1] for i in test_generator.filenames], results.astype(int).tolist())],\n",
    "    columns=['image', 'class']\n",
    ")"
   ]
  },
  {
   "cell_type": "code",
   "execution_count": null,
   "metadata": {
    "collapsed": true
   },
   "outputs": [],
   "source": [
    "sub.to_csv('keras.csv', encoding='utf-8', index=False)"
   ]
  },
  {
   "cell_type": "code",
   "execution_count": null,
   "metadata": {
    "collapsed": true,
    "scrolled": false
   },
   "outputs": [],
   "source": [
    "from keras.models import model_from_json\n",
    "import h5py\n",
    "# serialize model to JSON\n",
    "model_json = model.to_json()\n",
    "with open(\"model.json\", \"w\") as json_file:\n",
    "    json_file.write(model_json)\n",
    "# serialize weights to HDF5\n",
    "model.save_weights(\"model.h5\")\n",
    "print(\"Saved model to disk\")"
   ]
  }
 ],
 "metadata": {
  "kernelspec": {
   "display_name": "Python 3",
   "language": "python",
   "name": "python3"
  },
  "language_info": {
   "codemirror_mode": {
    "name": "ipython",
    "version": 3
   },
   "file_extension": ".py",
   "mimetype": "text/x-python",
   "name": "python",
   "nbconvert_exporter": "python",
   "pygments_lexer": "ipython3",
   "version": "3.6.1"
  }
 },
 "nbformat": 4,
 "nbformat_minor": 1
}
